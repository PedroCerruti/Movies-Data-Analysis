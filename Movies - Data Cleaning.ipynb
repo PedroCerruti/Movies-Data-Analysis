{
 "cells": [
  {
   "cell_type": "markdown",
   "metadata": {},
   "source": [
    "# Data Cleaning - Movies Dataset"
   ]
  },
  {
   "cell_type": "markdown",
   "metadata": {},
   "source": [
    "## Loading and inspecting dataset"
   ]
  },
  {
   "cell_type": "code",
   "execution_count": 578,
   "metadata": {},
   "outputs": [
    {
     "data": {
      "text/html": [
       "<div>\n",
       "<style scoped>\n",
       "    .dataframe tbody tr th:only-of-type {\n",
       "        vertical-align: middle;\n",
       "    }\n",
       "\n",
       "    .dataframe tbody tr th {\n",
       "        vertical-align: top;\n",
       "    }\n",
       "\n",
       "    .dataframe thead th {\n",
       "        text-align: right;\n",
       "    }\n",
       "</style>\n",
       "<table border=\"1\" class=\"dataframe\">\n",
       "  <thead>\n",
       "    <tr style=\"text-align: right;\">\n",
       "      <th></th>\n",
       "      <th>Unnamed: 0</th>\n",
       "      <th>adult</th>\n",
       "      <th>belongs_to_collection</th>\n",
       "      <th>budget</th>\n",
       "      <th>genres</th>\n",
       "      <th>homepage</th>\n",
       "      <th>id</th>\n",
       "      <th>imdb_id</th>\n",
       "      <th>original_language</th>\n",
       "      <th>original_title</th>\n",
       "      <th>overview</th>\n",
       "      <th>popularity</th>\n",
       "      <th>production_companies</th>\n",
       "      <th>production_countries</th>\n",
       "      <th>release_date</th>\n",
       "      <th>revenue</th>\n",
       "      <th>runtime</th>\n",
       "      <th>spoken_languages</th>\n",
       "      <th>status</th>\n",
       "      <th>tagline</th>\n",
       "      <th>title</th>\n",
       "      <th>video</th>\n",
       "      <th>vote_average</th>\n",
       "      <th>vote_count</th>\n",
       "      <th>poster_path</th>\n",
       "    </tr>\n",
       "  </thead>\n",
       "  <tbody>\n",
       "    <tr>\n",
       "      <th>0</th>\n",
       "      <td>0</td>\n",
       "      <td>False</td>\n",
       "      <td>{'id': 10194, 'name': 'Toy Story Collection', ...</td>\n",
       "      <td>30000000</td>\n",
       "      <td>[{'id': 16, 'name': 'Animation'}, {'id': 35, '...</td>\n",
       "      <td>http://toystory.disney.com/toy-story</td>\n",
       "      <td>862</td>\n",
       "      <td>tt0114709</td>\n",
       "      <td>en</td>\n",
       "      <td>Toy Story</td>\n",
       "      <td>Led by Woody, Andy's toys live happily in his ...</td>\n",
       "      <td>21.946943</td>\n",
       "      <td>[{'name': 'Pixar Animation Studios', 'id': 3}]</td>\n",
       "      <td>[{'iso_3166_1': 'US', 'name': 'United States o...</td>\n",
       "      <td>1995-10-30</td>\n",
       "      <td>373554033.0</td>\n",
       "      <td>81.0</td>\n",
       "      <td>[{'iso_639_1': 'en', 'name': 'English'}]</td>\n",
       "      <td>Released</td>\n",
       "      <td>NaN</td>\n",
       "      <td>Toy Story</td>\n",
       "      <td>False</td>\n",
       "      <td>7.7</td>\n",
       "      <td>5415.0</td>\n",
       "      <td>&lt;img src='http://image.tmdb.org/t/p/w185//uXDf...</td>\n",
       "    </tr>\n",
       "    <tr>\n",
       "      <th>1</th>\n",
       "      <td>1</td>\n",
       "      <td>False</td>\n",
       "      <td>NaN</td>\n",
       "      <td>65000000</td>\n",
       "      <td>[{'id': 12, 'name': 'Adventure'}, {'id': 14, '...</td>\n",
       "      <td>NaN</td>\n",
       "      <td>8844</td>\n",
       "      <td>tt0113497</td>\n",
       "      <td>en</td>\n",
       "      <td>Jumanji</td>\n",
       "      <td>When siblings Judy and Peter discover an encha...</td>\n",
       "      <td>17.015539</td>\n",
       "      <td>[{'name': 'TriStar Pictures', 'id': 559}, {'na...</td>\n",
       "      <td>[{'iso_3166_1': 'US', 'name': 'United States o...</td>\n",
       "      <td>1995-12-15</td>\n",
       "      <td>262797249.0</td>\n",
       "      <td>104.0</td>\n",
       "      <td>[{'iso_639_1': 'en', 'name': 'English'}, {'iso...</td>\n",
       "      <td>Released</td>\n",
       "      <td>Roll the dice and unleash the excitement!</td>\n",
       "      <td>Jumanji</td>\n",
       "      <td>False</td>\n",
       "      <td>6.9</td>\n",
       "      <td>2413.0</td>\n",
       "      <td>&lt;img src='http://image.tmdb.org/t/p/w185//vgpX...</td>\n",
       "    </tr>\n",
       "    <tr>\n",
       "      <th>2</th>\n",
       "      <td>2</td>\n",
       "      <td>False</td>\n",
       "      <td>{'id': 119050, 'name': 'Grumpy Old Men Collect...</td>\n",
       "      <td>0</td>\n",
       "      <td>[{'id': 10749, 'name': 'Romance'}, {'id': 35, ...</td>\n",
       "      <td>NaN</td>\n",
       "      <td>15602</td>\n",
       "      <td>tt0113228</td>\n",
       "      <td>en</td>\n",
       "      <td>Grumpier Old Men</td>\n",
       "      <td>A family wedding reignites the ancient feud be...</td>\n",
       "      <td>11.7129</td>\n",
       "      <td>[{'name': 'Warner Bros.', 'id': 6194}, {'name'...</td>\n",
       "      <td>[{'iso_3166_1': 'US', 'name': 'United States o...</td>\n",
       "      <td>1995-12-22</td>\n",
       "      <td>0.0</td>\n",
       "      <td>101.0</td>\n",
       "      <td>[{'iso_639_1': 'en', 'name': 'English'}]</td>\n",
       "      <td>Released</td>\n",
       "      <td>Still Yelling. Still Fighting. Still Ready for...</td>\n",
       "      <td>Grumpier Old Men</td>\n",
       "      <td>False</td>\n",
       "      <td>6.5</td>\n",
       "      <td>92.0</td>\n",
       "      <td>&lt;img src='http://image.tmdb.org/t/p/w185//1FSX...</td>\n",
       "    </tr>\n",
       "    <tr>\n",
       "      <th>3</th>\n",
       "      <td>3</td>\n",
       "      <td>False</td>\n",
       "      <td>NaN</td>\n",
       "      <td>16000000</td>\n",
       "      <td>[{'id': 35, 'name': 'Comedy'}, {'id': 18, 'nam...</td>\n",
       "      <td>NaN</td>\n",
       "      <td>31357</td>\n",
       "      <td>tt0114885</td>\n",
       "      <td>en</td>\n",
       "      <td>Waiting to Exhale</td>\n",
       "      <td>Cheated on, mistreated and stepped on, the wom...</td>\n",
       "      <td>3.859495</td>\n",
       "      <td>[{'name': 'Twentieth Century Fox Film Corporat...</td>\n",
       "      <td>[{'iso_3166_1': 'US', 'name': 'United States o...</td>\n",
       "      <td>1995-12-22</td>\n",
       "      <td>81452156.0</td>\n",
       "      <td>127.0</td>\n",
       "      <td>[{'iso_639_1': 'en', 'name': 'English'}]</td>\n",
       "      <td>Released</td>\n",
       "      <td>Friends are the people who let you be yourself...</td>\n",
       "      <td>Waiting to Exhale</td>\n",
       "      <td>False</td>\n",
       "      <td>6.1</td>\n",
       "      <td>34.0</td>\n",
       "      <td>&lt;img src='http://image.tmdb.org/t/p/w185//4wjG...</td>\n",
       "    </tr>\n",
       "    <tr>\n",
       "      <th>4</th>\n",
       "      <td>4</td>\n",
       "      <td>False</td>\n",
       "      <td>{'id': 96871, 'name': 'Father of the Bride Col...</td>\n",
       "      <td>0</td>\n",
       "      <td>[{'id': 35, 'name': 'Comedy'}]</td>\n",
       "      <td>NaN</td>\n",
       "      <td>11862</td>\n",
       "      <td>tt0113041</td>\n",
       "      <td>en</td>\n",
       "      <td>Father of the Bride Part II</td>\n",
       "      <td>Just when George Banks has recovered from his ...</td>\n",
       "      <td>8.387519</td>\n",
       "      <td>[{'name': 'Sandollar Productions', 'id': 5842}...</td>\n",
       "      <td>[{'iso_3166_1': 'US', 'name': 'United States o...</td>\n",
       "      <td>1995-02-10</td>\n",
       "      <td>76578911.0</td>\n",
       "      <td>106.0</td>\n",
       "      <td>[{'iso_639_1': 'en', 'name': 'English'}]</td>\n",
       "      <td>Released</td>\n",
       "      <td>Just When His World Is Back To Normal... He's ...</td>\n",
       "      <td>Father of the Bride Part II</td>\n",
       "      <td>False</td>\n",
       "      <td>5.7</td>\n",
       "      <td>173.0</td>\n",
       "      <td>&lt;img src='http://image.tmdb.org/t/p/w185//lf9R...</td>\n",
       "    </tr>\n",
       "    <tr>\n",
       "      <th>...</th>\n",
       "      <td>...</td>\n",
       "      <td>...</td>\n",
       "      <td>...</td>\n",
       "      <td>...</td>\n",
       "      <td>...</td>\n",
       "      <td>...</td>\n",
       "      <td>...</td>\n",
       "      <td>...</td>\n",
       "      <td>...</td>\n",
       "      <td>...</td>\n",
       "      <td>...</td>\n",
       "      <td>...</td>\n",
       "      <td>...</td>\n",
       "      <td>...</td>\n",
       "      <td>...</td>\n",
       "      <td>...</td>\n",
       "      <td>...</td>\n",
       "      <td>...</td>\n",
       "      <td>...</td>\n",
       "      <td>...</td>\n",
       "      <td>...</td>\n",
       "      <td>...</td>\n",
       "      <td>...</td>\n",
       "      <td>...</td>\n",
       "      <td>...</td>\n",
       "    </tr>\n",
       "    <tr>\n",
       "      <th>45461</th>\n",
       "      <td>45461</td>\n",
       "      <td>False</td>\n",
       "      <td>NaN</td>\n",
       "      <td>0</td>\n",
       "      <td>[{'id': 18, 'name': 'Drama'}, {'id': 10751, 'n...</td>\n",
       "      <td>http://www.imdb.com/title/tt6209470/</td>\n",
       "      <td>439050</td>\n",
       "      <td>tt6209470</td>\n",
       "      <td>fa</td>\n",
       "      <td>رگ خواب</td>\n",
       "      <td>Rising and falling between a man and woman.</td>\n",
       "      <td>0.072051</td>\n",
       "      <td>[]</td>\n",
       "      <td>[{'iso_3166_1': 'IR', 'name': 'Iran'}]</td>\n",
       "      <td>NaN</td>\n",
       "      <td>0.0</td>\n",
       "      <td>90.0</td>\n",
       "      <td>[{'iso_639_1': 'fa', 'name': 'فارسی'}]</td>\n",
       "      <td>Released</td>\n",
       "      <td>Rising and falling between a man and woman</td>\n",
       "      <td>Subdue</td>\n",
       "      <td>False</td>\n",
       "      <td>4.0</td>\n",
       "      <td>1.0</td>\n",
       "      <td>&lt;img src='http://image.tmdb.org/t/p/w185//pfC8...</td>\n",
       "    </tr>\n",
       "    <tr>\n",
       "      <th>45462</th>\n",
       "      <td>45462</td>\n",
       "      <td>False</td>\n",
       "      <td>NaN</td>\n",
       "      <td>0</td>\n",
       "      <td>[{'id': 18, 'name': 'Drama'}]</td>\n",
       "      <td>NaN</td>\n",
       "      <td>111109</td>\n",
       "      <td>tt2028550</td>\n",
       "      <td>tl</td>\n",
       "      <td>Siglo ng Pagluluwal</td>\n",
       "      <td>An artist struggles to finish his work while a...</td>\n",
       "      <td>0.178241</td>\n",
       "      <td>[{'name': 'Sine Olivia', 'id': 19653}]</td>\n",
       "      <td>[{'iso_3166_1': 'PH', 'name': 'Philippines'}]</td>\n",
       "      <td>2011-11-17</td>\n",
       "      <td>0.0</td>\n",
       "      <td>360.0</td>\n",
       "      <td>[{'iso_639_1': 'tl', 'name': ''}]</td>\n",
       "      <td>Released</td>\n",
       "      <td>NaN</td>\n",
       "      <td>Century of Birthing</td>\n",
       "      <td>False</td>\n",
       "      <td>9.0</td>\n",
       "      <td>3.0</td>\n",
       "      <td>&lt;img src='http://image.tmdb.org/t/p/w185//xZkm...</td>\n",
       "    </tr>\n",
       "    <tr>\n",
       "      <th>45463</th>\n",
       "      <td>45463</td>\n",
       "      <td>False</td>\n",
       "      <td>NaN</td>\n",
       "      <td>0</td>\n",
       "      <td>[{'id': 28, 'name': 'Action'}, {'id': 18, 'nam...</td>\n",
       "      <td>NaN</td>\n",
       "      <td>67758</td>\n",
       "      <td>tt0303758</td>\n",
       "      <td>en</td>\n",
       "      <td>Betrayal</td>\n",
       "      <td>When one of her hits goes wrong, a professiona...</td>\n",
       "      <td>0.903007</td>\n",
       "      <td>[{'name': 'American World Pictures', 'id': 6165}]</td>\n",
       "      <td>[{'iso_3166_1': 'US', 'name': 'United States o...</td>\n",
       "      <td>2003-08-01</td>\n",
       "      <td>0.0</td>\n",
       "      <td>90.0</td>\n",
       "      <td>[{'iso_639_1': 'en', 'name': 'English'}]</td>\n",
       "      <td>Released</td>\n",
       "      <td>A deadly game of wits.</td>\n",
       "      <td>Betrayal</td>\n",
       "      <td>False</td>\n",
       "      <td>3.8</td>\n",
       "      <td>6.0</td>\n",
       "      <td>&lt;img src='http://image.tmdb.org/t/p/w185//eGga...</td>\n",
       "    </tr>\n",
       "    <tr>\n",
       "      <th>45464</th>\n",
       "      <td>45464</td>\n",
       "      <td>False</td>\n",
       "      <td>NaN</td>\n",
       "      <td>0</td>\n",
       "      <td>[]</td>\n",
       "      <td>NaN</td>\n",
       "      <td>227506</td>\n",
       "      <td>tt0008536</td>\n",
       "      <td>en</td>\n",
       "      <td>Satana likuyushchiy</td>\n",
       "      <td>In a small town live two brothers, one a minis...</td>\n",
       "      <td>0.003503</td>\n",
       "      <td>[{'name': 'Yermoliev', 'id': 88753}]</td>\n",
       "      <td>[{'iso_3166_1': 'RU', 'name': 'Russia'}]</td>\n",
       "      <td>1917-10-21</td>\n",
       "      <td>0.0</td>\n",
       "      <td>87.0</td>\n",
       "      <td>[]</td>\n",
       "      <td>Released</td>\n",
       "      <td>NaN</td>\n",
       "      <td>Satan Triumphant</td>\n",
       "      <td>False</td>\n",
       "      <td>0.0</td>\n",
       "      <td>0.0</td>\n",
       "      <td>&lt;img src='http://image.tmdb.org/t/p/w185//aorB...</td>\n",
       "    </tr>\n",
       "    <tr>\n",
       "      <th>45465</th>\n",
       "      <td>45465</td>\n",
       "      <td>False</td>\n",
       "      <td>NaN</td>\n",
       "      <td>0</td>\n",
       "      <td>[]</td>\n",
       "      <td>NaN</td>\n",
       "      <td>461257</td>\n",
       "      <td>tt6980792</td>\n",
       "      <td>en</td>\n",
       "      <td>Queerama</td>\n",
       "      <td>50 years after decriminalisation of homosexual...</td>\n",
       "      <td>0.163015</td>\n",
       "      <td>[]</td>\n",
       "      <td>[{'iso_3166_1': 'GB', 'name': 'United Kingdom'}]</td>\n",
       "      <td>2017-06-09</td>\n",
       "      <td>0.0</td>\n",
       "      <td>75.0</td>\n",
       "      <td>[{'iso_639_1': 'en', 'name': 'English'}]</td>\n",
       "      <td>Released</td>\n",
       "      <td>NaN</td>\n",
       "      <td>Queerama</td>\n",
       "      <td>False</td>\n",
       "      <td>0.0</td>\n",
       "      <td>0.0</td>\n",
       "      <td>&lt;img src='http://image.tmdb.org/t/p/w185//oxFE...</td>\n",
       "    </tr>\n",
       "  </tbody>\n",
       "</table>\n",
       "<p>45466 rows × 25 columns</p>\n",
       "</div>"
      ],
      "text/plain": [
       "       Unnamed: 0  adult                              belongs_to_collection  \\\n",
       "0               0  False  {'id': 10194, 'name': 'Toy Story Collection', ...   \n",
       "1               1  False                                                NaN   \n",
       "2               2  False  {'id': 119050, 'name': 'Grumpy Old Men Collect...   \n",
       "3               3  False                                                NaN   \n",
       "4               4  False  {'id': 96871, 'name': 'Father of the Bride Col...   \n",
       "...           ...    ...                                                ...   \n",
       "45461       45461  False                                                NaN   \n",
       "45462       45462  False                                                NaN   \n",
       "45463       45463  False                                                NaN   \n",
       "45464       45464  False                                                NaN   \n",
       "45465       45465  False                                                NaN   \n",
       "\n",
       "         budget                                             genres  \\\n",
       "0      30000000  [{'id': 16, 'name': 'Animation'}, {'id': 35, '...   \n",
       "1      65000000  [{'id': 12, 'name': 'Adventure'}, {'id': 14, '...   \n",
       "2             0  [{'id': 10749, 'name': 'Romance'}, {'id': 35, ...   \n",
       "3      16000000  [{'id': 35, 'name': 'Comedy'}, {'id': 18, 'nam...   \n",
       "4             0                     [{'id': 35, 'name': 'Comedy'}]   \n",
       "...         ...                                                ...   \n",
       "45461         0  [{'id': 18, 'name': 'Drama'}, {'id': 10751, 'n...   \n",
       "45462         0                      [{'id': 18, 'name': 'Drama'}]   \n",
       "45463         0  [{'id': 28, 'name': 'Action'}, {'id': 18, 'nam...   \n",
       "45464         0                                                 []   \n",
       "45465         0                                                 []   \n",
       "\n",
       "                                   homepage      id    imdb_id  \\\n",
       "0      http://toystory.disney.com/toy-story     862  tt0114709   \n",
       "1                                       NaN    8844  tt0113497   \n",
       "2                                       NaN   15602  tt0113228   \n",
       "3                                       NaN   31357  tt0114885   \n",
       "4                                       NaN   11862  tt0113041   \n",
       "...                                     ...     ...        ...   \n",
       "45461  http://www.imdb.com/title/tt6209470/  439050  tt6209470   \n",
       "45462                                   NaN  111109  tt2028550   \n",
       "45463                                   NaN   67758  tt0303758   \n",
       "45464                                   NaN  227506  tt0008536   \n",
       "45465                                   NaN  461257  tt6980792   \n",
       "\n",
       "      original_language               original_title  \\\n",
       "0                    en                    Toy Story   \n",
       "1                    en                      Jumanji   \n",
       "2                    en             Grumpier Old Men   \n",
       "3                    en            Waiting to Exhale   \n",
       "4                    en  Father of the Bride Part II   \n",
       "...                 ...                          ...   \n",
       "45461                fa                      رگ خواب   \n",
       "45462                tl          Siglo ng Pagluluwal   \n",
       "45463                en                     Betrayal   \n",
       "45464                en          Satana likuyushchiy   \n",
       "45465                en                     Queerama   \n",
       "\n",
       "                                                overview popularity  \\\n",
       "0      Led by Woody, Andy's toys live happily in his ...  21.946943   \n",
       "1      When siblings Judy and Peter discover an encha...  17.015539   \n",
       "2      A family wedding reignites the ancient feud be...    11.7129   \n",
       "3      Cheated on, mistreated and stepped on, the wom...   3.859495   \n",
       "4      Just when George Banks has recovered from his ...   8.387519   \n",
       "...                                                  ...        ...   \n",
       "45461        Rising and falling between a man and woman.   0.072051   \n",
       "45462  An artist struggles to finish his work while a...   0.178241   \n",
       "45463  When one of her hits goes wrong, a professiona...   0.903007   \n",
       "45464  In a small town live two brothers, one a minis...   0.003503   \n",
       "45465  50 years after decriminalisation of homosexual...   0.163015   \n",
       "\n",
       "                                    production_companies  \\\n",
       "0         [{'name': 'Pixar Animation Studios', 'id': 3}]   \n",
       "1      [{'name': 'TriStar Pictures', 'id': 559}, {'na...   \n",
       "2      [{'name': 'Warner Bros.', 'id': 6194}, {'name'...   \n",
       "3      [{'name': 'Twentieth Century Fox Film Corporat...   \n",
       "4      [{'name': 'Sandollar Productions', 'id': 5842}...   \n",
       "...                                                  ...   \n",
       "45461                                                 []   \n",
       "45462             [{'name': 'Sine Olivia', 'id': 19653}]   \n",
       "45463  [{'name': 'American World Pictures', 'id': 6165}]   \n",
       "45464               [{'name': 'Yermoliev', 'id': 88753}]   \n",
       "45465                                                 []   \n",
       "\n",
       "                                    production_countries release_date  \\\n",
       "0      [{'iso_3166_1': 'US', 'name': 'United States o...   1995-10-30   \n",
       "1      [{'iso_3166_1': 'US', 'name': 'United States o...   1995-12-15   \n",
       "2      [{'iso_3166_1': 'US', 'name': 'United States o...   1995-12-22   \n",
       "3      [{'iso_3166_1': 'US', 'name': 'United States o...   1995-12-22   \n",
       "4      [{'iso_3166_1': 'US', 'name': 'United States o...   1995-02-10   \n",
       "...                                                  ...          ...   \n",
       "45461             [{'iso_3166_1': 'IR', 'name': 'Iran'}]          NaN   \n",
       "45462      [{'iso_3166_1': 'PH', 'name': 'Philippines'}]   2011-11-17   \n",
       "45463  [{'iso_3166_1': 'US', 'name': 'United States o...   2003-08-01   \n",
       "45464           [{'iso_3166_1': 'RU', 'name': 'Russia'}]   1917-10-21   \n",
       "45465   [{'iso_3166_1': 'GB', 'name': 'United Kingdom'}]   2017-06-09   \n",
       "\n",
       "           revenue  runtime  \\\n",
       "0      373554033.0     81.0   \n",
       "1      262797249.0    104.0   \n",
       "2              0.0    101.0   \n",
       "3       81452156.0    127.0   \n",
       "4       76578911.0    106.0   \n",
       "...            ...      ...   \n",
       "45461          0.0     90.0   \n",
       "45462          0.0    360.0   \n",
       "45463          0.0     90.0   \n",
       "45464          0.0     87.0   \n",
       "45465          0.0     75.0   \n",
       "\n",
       "                                        spoken_languages    status  \\\n",
       "0               [{'iso_639_1': 'en', 'name': 'English'}]  Released   \n",
       "1      [{'iso_639_1': 'en', 'name': 'English'}, {'iso...  Released   \n",
       "2               [{'iso_639_1': 'en', 'name': 'English'}]  Released   \n",
       "3               [{'iso_639_1': 'en', 'name': 'English'}]  Released   \n",
       "4               [{'iso_639_1': 'en', 'name': 'English'}]  Released   \n",
       "...                                                  ...       ...   \n",
       "45461             [{'iso_639_1': 'fa', 'name': 'فارسی'}]  Released   \n",
       "45462                  [{'iso_639_1': 'tl', 'name': ''}]  Released   \n",
       "45463           [{'iso_639_1': 'en', 'name': 'English'}]  Released   \n",
       "45464                                                 []  Released   \n",
       "45465           [{'iso_639_1': 'en', 'name': 'English'}]  Released   \n",
       "\n",
       "                                                 tagline  \\\n",
       "0                                                    NaN   \n",
       "1              Roll the dice and unleash the excitement!   \n",
       "2      Still Yelling. Still Fighting. Still Ready for...   \n",
       "3      Friends are the people who let you be yourself...   \n",
       "4      Just When His World Is Back To Normal... He's ...   \n",
       "...                                                  ...   \n",
       "45461         Rising and falling between a man and woman   \n",
       "45462                                                NaN   \n",
       "45463                             A deadly game of wits.   \n",
       "45464                                                NaN   \n",
       "45465                                                NaN   \n",
       "\n",
       "                             title  video  vote_average  vote_count  \\\n",
       "0                        Toy Story  False           7.7      5415.0   \n",
       "1                          Jumanji  False           6.9      2413.0   \n",
       "2                 Grumpier Old Men  False           6.5        92.0   \n",
       "3                Waiting to Exhale  False           6.1        34.0   \n",
       "4      Father of the Bride Part II  False           5.7       173.0   \n",
       "...                            ...    ...           ...         ...   \n",
       "45461                       Subdue  False           4.0         1.0   \n",
       "45462          Century of Birthing  False           9.0         3.0   \n",
       "45463                     Betrayal  False           3.8         6.0   \n",
       "45464             Satan Triumphant  False           0.0         0.0   \n",
       "45465                     Queerama  False           0.0         0.0   \n",
       "\n",
       "                                             poster_path  \n",
       "0      <img src='http://image.tmdb.org/t/p/w185//uXDf...  \n",
       "1      <img src='http://image.tmdb.org/t/p/w185//vgpX...  \n",
       "2      <img src='http://image.tmdb.org/t/p/w185//1FSX...  \n",
       "3      <img src='http://image.tmdb.org/t/p/w185//4wjG...  \n",
       "4      <img src='http://image.tmdb.org/t/p/w185//lf9R...  \n",
       "...                                                  ...  \n",
       "45461  <img src='http://image.tmdb.org/t/p/w185//pfC8...  \n",
       "45462  <img src='http://image.tmdb.org/t/p/w185//xZkm...  \n",
       "45463  <img src='http://image.tmdb.org/t/p/w185//eGga...  \n",
       "45464  <img src='http://image.tmdb.org/t/p/w185//aorB...  \n",
       "45465  <img src='http://image.tmdb.org/t/p/w185//oxFE...  \n",
       "\n",
       "[45466 rows x 25 columns]"
      ]
     },
     "execution_count": 578,
     "metadata": {},
     "output_type": "execute_result"
    }
   ],
   "source": [
    "import pandas as pd\n",
    "pd.options.display.max_columns = 30\n",
    "\n",
    "df = pd.read_csv('movies_metadata2.csv', low_memory=False)\n",
    "df"
   ]
  },
  {
   "cell_type": "code",
   "execution_count": 579,
   "metadata": {},
   "outputs": [
    {
     "name": "stdout",
     "output_type": "stream",
     "text": [
      "<class 'pandas.core.frame.DataFrame'>\n",
      "RangeIndex: 45466 entries, 0 to 45465\n",
      "Data columns (total 25 columns):\n",
      " #   Column                 Non-Null Count  Dtype  \n",
      "---  ------                 --------------  -----  \n",
      " 0   Unnamed: 0             45466 non-null  int64  \n",
      " 1   adult                  45466 non-null  object \n",
      " 2   belongs_to_collection  4494 non-null   object \n",
      " 3   budget                 45466 non-null  object \n",
      " 4   genres                 45466 non-null  object \n",
      " 5   homepage               7782 non-null   object \n",
      " 6   id                     45466 non-null  object \n",
      " 7   imdb_id                45449 non-null  object \n",
      " 8   original_language      45455 non-null  object \n",
      " 9   original_title         45466 non-null  object \n",
      " 10  overview               44512 non-null  object \n",
      " 11  popularity             45461 non-null  object \n",
      " 12  production_companies   45463 non-null  object \n",
      " 13  production_countries   45463 non-null  object \n",
      " 14  release_date           45379 non-null  object \n",
      " 15  revenue                45460 non-null  float64\n",
      " 16  runtime                45203 non-null  float64\n",
      " 17  spoken_languages       45460 non-null  object \n",
      " 18  status                 45379 non-null  object \n",
      " 19  tagline                20412 non-null  object \n",
      " 20  title                  45460 non-null  object \n",
      " 21  video                  45460 non-null  object \n",
      " 22  vote_average           45460 non-null  float64\n",
      " 23  vote_count             45460 non-null  float64\n",
      " 24  poster_path            44496 non-null  object \n",
      "dtypes: float64(4), int64(1), object(20)\n",
      "memory usage: 8.7+ MB\n"
     ]
    }
   ],
   "source": [
    "df.info()"
   ]
  },
  {
   "cell_type": "code",
   "execution_count": 580,
   "metadata": {},
   "outputs": [
    {
     "data": {
      "text/plain": [
       "\"{'id': 10194, 'name': 'Toy Story Collection', 'poster_path': '/7G9915LfUQ2lVfwMEEhDsn3kT4B.jpg', 'backdrop_path': '/9FBwqcd9IRruEDUrTdcaafOMKUq.jpg'}\""
      ]
     },
     "execution_count": 580,
     "metadata": {},
     "output_type": "execute_result"
    }
   ],
   "source": [
    "df.belongs_to_collection[0]"
   ]
  },
  {
   "cell_type": "code",
   "execution_count": 581,
   "metadata": {},
   "outputs": [
    {
     "data": {
      "text/plain": [
       "str"
      ]
     },
     "execution_count": 581,
     "metadata": {},
     "output_type": "execute_result"
    }
   ],
   "source": [
    "type(df.belongs_to_collection[0])"
   ]
  },
  {
   "cell_type": "code",
   "execution_count": 582,
   "metadata": {},
   "outputs": [
    {
     "data": {
      "text/plain": [
       "\"[{'id': 16, 'name': 'Animation'}, {'id': 35, 'name': 'Comedy'}, {'id': 10751, 'name': 'Family'}]\""
      ]
     },
     "execution_count": 582,
     "metadata": {},
     "output_type": "execute_result"
    }
   ],
   "source": [
    "df.genres[0]"
   ]
  },
  {
   "cell_type": "code",
   "execution_count": 583,
   "metadata": {},
   "outputs": [
    {
     "data": {
      "text/plain": [
       "\"[{'iso_639_1': 'en', 'name': 'English'}]\""
      ]
     },
     "execution_count": 583,
     "metadata": {},
     "output_type": "execute_result"
    }
   ],
   "source": [
    "df.spoken_languages[0]"
   ]
  },
  {
   "cell_type": "markdown",
   "metadata": {},
   "source": [
    "## Dropping irrelevant Columns"
   ]
  },
  {
   "cell_type": "code",
   "execution_count": 584,
   "metadata": {},
   "outputs": [
    {
     "data": {
      "text/plain": [
       "Index(['Unnamed: 0', 'adult', 'belongs_to_collection', 'budget', 'genres',\n",
       "       'homepage', 'id', 'imdb_id', 'original_language', 'original_title',\n",
       "       'overview', 'popularity', 'production_companies',\n",
       "       'production_countries', 'release_date', 'revenue', 'runtime',\n",
       "       'spoken_languages', 'status', 'tagline', 'title', 'video',\n",
       "       'vote_average', 'vote_count', 'poster_path'],\n",
       "      dtype='object')"
      ]
     },
     "execution_count": 584,
     "metadata": {},
     "output_type": "execute_result"
    }
   ],
   "source": [
    "df.columns"
   ]
  },
  {
   "cell_type": "code",
   "execution_count": 585,
   "metadata": {},
   "outputs": [
    {
     "data": {
      "text/plain": [
       "False                                                                                                                             45454\n",
       "True                                                                                                                                  9\n",
       " - Written by Ørnås                                                                                                                   1\n",
       " Rune Balot goes to a casino connected to the October corporation to try to wrap up her case once and for all.                        1\n",
       " Avalanche Sharks tells the story of a bikini contest that turns into a horrifying affair when it is hit by a shark avalanche.        1\n",
       "Name: adult, dtype: int64"
      ]
     },
     "execution_count": 585,
     "metadata": {},
     "output_type": "execute_result"
    }
   ],
   "source": [
    "df.adult.value_counts()"
   ]
  },
  {
   "cell_type": "code",
   "execution_count": 586,
   "metadata": {},
   "outputs": [],
   "source": [
    "df.drop(axis=1, columns =['adult', 'imdb_id', 'original_title', 'video', 'homepage'], inplace=True)"
   ]
  },
  {
   "cell_type": "code",
   "execution_count": 587,
   "metadata": {},
   "outputs": [
    {
     "data": {
      "text/plain": [
       "Index(['Unnamed: 0', 'belongs_to_collection', 'budget', 'genres', 'id',\n",
       "       'original_language', 'overview', 'popularity', 'production_companies',\n",
       "       'production_countries', 'release_date', 'revenue', 'runtime',\n",
       "       'spoken_languages', 'status', 'tagline', 'title', 'vote_average',\n",
       "       'vote_count', 'poster_path'],\n",
       "      dtype='object')"
      ]
     },
     "execution_count": 587,
     "metadata": {},
     "output_type": "execute_result"
    }
   ],
   "source": [
    "df.columns"
   ]
  },
  {
   "cell_type": "markdown",
   "metadata": {},
   "source": [
    "## Handling stringified JSON columns"
   ]
  },
  {
   "cell_type": "code",
   "execution_count": 588,
   "metadata": {},
   "outputs": [],
   "source": [
    "import json\n",
    "import ast"
   ]
  },
  {
   "cell_type": "code",
   "execution_count": 589,
   "metadata": {},
   "outputs": [],
   "source": [
    "json_columns = ['belongs_to_collection', 'genres', 'production_companies',\n",
    "       'production_countries', 'spoken_languages']"
   ]
  },
  {
   "cell_type": "code",
   "execution_count": 590,
   "metadata": {},
   "outputs": [
    {
     "data": {
      "text/plain": [
       "\"[{'id': 16, 'name': 'Animation'}, {'id': 35, 'name': 'Comedy'}, {'id': 10751, 'name': 'Family'}]\""
      ]
     },
     "execution_count": 590,
     "metadata": {},
     "output_type": "execute_result"
    }
   ],
   "source": [
    "df.genres[0]"
   ]
  },
  {
   "cell_type": "code",
   "execution_count": 591,
   "metadata": {},
   "outputs": [
    {
     "data": {
      "text/plain": [
       "\"[{'id': 16, 'name': 'Animation'}, {'id': 35, 'name': 'Comedy'}, {'id': 10751, 'name': 'Family'}]\""
      ]
     },
     "execution_count": 591,
     "metadata": {},
     "output_type": "execute_result"
    }
   ],
   "source": [
    "json_1 = df.genres[0]\n",
    "json_1"
   ]
  },
  {
   "cell_type": "code",
   "execution_count": 592,
   "metadata": {},
   "outputs": [
    {
     "data": {
      "text/plain": [
       "[{'id': 16, 'name': 'Animation'},\n",
       " {'id': 35, 'name': 'Comedy'},\n",
       " {'id': 10751, 'name': 'Family'}]"
      ]
     },
     "execution_count": 592,
     "metadata": {},
     "output_type": "execute_result"
    }
   ],
   "source": [
    "df.genres.apply(lambda x: ast.literal_eval(x))[0]"
   ]
  },
  {
   "cell_type": "code",
   "execution_count": 593,
   "metadata": {},
   "outputs": [],
   "source": [
    "df.genres = df.genres.apply(lambda x: ast.literal_eval(x))"
   ]
  },
  {
   "cell_type": "code",
   "execution_count": 594,
   "metadata": {},
   "outputs": [
    {
     "data": {
      "text/plain": [
       "float"
      ]
     },
     "execution_count": 594,
     "metadata": {},
     "output_type": "execute_result"
    }
   ],
   "source": [
    "type(df.belongs_to_collection[1])"
   ]
  },
  {
   "cell_type": "code",
   "execution_count": 595,
   "metadata": {},
   "outputs": [
    {
     "data": {
      "text/plain": [
       "0         True\n",
       "1        False\n",
       "2         True\n",
       "3        False\n",
       "4         True\n",
       "         ...  \n",
       "45461    False\n",
       "45462    False\n",
       "45463    False\n",
       "45464    False\n",
       "45465    False\n",
       "Name: belongs_to_collection, Length: 45466, dtype: bool"
      ]
     },
     "execution_count": 595,
     "metadata": {},
     "output_type": "execute_result"
    }
   ],
   "source": [
    "df.belongs_to_collection.apply(lambda x: isinstance(x, str))"
   ]
  },
  {
   "cell_type": "code",
   "execution_count": 596,
   "metadata": {},
   "outputs": [],
   "source": [
    "import numpy as np\n",
    "df.belongs_to_collection = df.belongs_to_collection.apply(lambda x: ast.literal_eval(x)\n",
    "                                                          if isinstance(x, str) else np.nan)"
   ]
  },
  {
   "cell_type": "code",
   "execution_count": 597,
   "metadata": {},
   "outputs": [
    {
     "data": {
      "text/plain": [
       "{'id': 10194,\n",
       " 'name': 'Toy Story Collection',\n",
       " 'poster_path': '/7G9915LfUQ2lVfwMEEhDsn3kT4B.jpg',\n",
       " 'backdrop_path': '/9FBwqcd9IRruEDUrTdcaafOMKUq.jpg'}"
      ]
     },
     "execution_count": 597,
     "metadata": {},
     "output_type": "execute_result"
    }
   ],
   "source": [
    "df.belongs_to_collection[0]"
   ]
  },
  {
   "cell_type": "code",
   "execution_count": 598,
   "metadata": {},
   "outputs": [
    {
     "data": {
      "text/plain": [
       "['production_companies', 'production_countries', 'spoken_languages']"
      ]
     },
     "execution_count": 598,
     "metadata": {},
     "output_type": "execute_result"
    }
   ],
   "source": [
    "json_columns[2:5]"
   ]
  },
  {
   "cell_type": "code",
   "execution_count": 599,
   "metadata": {},
   "outputs": [
    {
     "name": "stdout",
     "output_type": "stream",
     "text": [
      "[{'name': 'Pixar Animation Studios', 'id': 3}]\n",
      "[{'iso_3166_1': 'US', 'name': 'United States of America'}]\n",
      "[{'iso_639_1': 'en', 'name': 'English'}]\n"
     ]
    }
   ],
   "source": [
    "for column in json_columns[2:5]:\n",
    "    df[column] = df[column].apply(lambda x: ast.literal_eval(x) if isinstance(x, str) else np.nan)\n",
    "    print(df[column][0])"
   ]
  },
  {
   "cell_type": "code",
   "execution_count": 600,
   "metadata": {},
   "outputs": [
    {
     "data": {
      "text/plain": [
       "0           [{'name': 'Pixar Animation Studios', 'id': 3}]\n",
       "1        [{'name': 'TriStar Pictures', 'id': 559}, {'na...\n",
       "2        [{'name': 'Warner Bros.', 'id': 6194}, {'name'...\n",
       "3        [{'name': 'Twentieth Century Fox Film Corporat...\n",
       "4        [{'name': 'Sandollar Productions', 'id': 5842}...\n",
       "                               ...                        \n",
       "45461                                                   []\n",
       "45462               [{'name': 'Sine Olivia', 'id': 19653}]\n",
       "45463    [{'name': 'American World Pictures', 'id': 6165}]\n",
       "45464                 [{'name': 'Yermoliev', 'id': 88753}]\n",
       "45465                                                   []\n",
       "Name: production_companies, Length: 45466, dtype: object"
      ]
     },
     "execution_count": 600,
     "metadata": {},
     "output_type": "execute_result"
    }
   ],
   "source": [
    "df.production_companies"
   ]
  },
  {
   "cell_type": "code",
   "execution_count": 601,
   "metadata": {},
   "outputs": [
    {
     "data": {
      "text/plain": [
       "[{'iso_3166_1': 'US', 'name': 'United States of America'}]"
      ]
     },
     "execution_count": 601,
     "metadata": {},
     "output_type": "execute_result"
    }
   ],
   "source": [
    "df.production_countries[0]"
   ]
  },
  {
   "cell_type": "markdown",
   "metadata": {},
   "source": [
    "## Flattening nested Columns"
   ]
  },
  {
   "cell_type": "code",
   "execution_count": 602,
   "metadata": {},
   "outputs": [
    {
     "data": {
      "text/plain": [
       "{'id': 10194,\n",
       " 'name': 'Toy Story Collection',\n",
       " 'poster_path': '/7G9915LfUQ2lVfwMEEhDsn3kT4B.jpg',\n",
       " 'backdrop_path': '/9FBwqcd9IRruEDUrTdcaafOMKUq.jpg'}"
      ]
     },
     "execution_count": 602,
     "metadata": {},
     "output_type": "execute_result"
    }
   ],
   "source": [
    "df.belongs_to_collection[0]"
   ]
  },
  {
   "cell_type": "code",
   "execution_count": 603,
   "metadata": {},
   "outputs": [],
   "source": [
    "df.belongs_to_collection = df.belongs_to_collection.apply(lambda x: x['name'] if isinstance(x, dict) else np.nan)"
   ]
  },
  {
   "cell_type": "code",
   "execution_count": 604,
   "metadata": {},
   "outputs": [
    {
     "data": {
      "text/plain": [
       "0                  Toy Story Collection\n",
       "1                                   NaN\n",
       "2             Grumpy Old Men Collection\n",
       "3                                   NaN\n",
       "4        Father of the Bride Collection\n",
       "                      ...              \n",
       "45461                               NaN\n",
       "45462                               NaN\n",
       "45463                               NaN\n",
       "45464                               NaN\n",
       "45465                               NaN\n",
       "Name: belongs_to_collection, Length: 45466, dtype: object"
      ]
     },
     "execution_count": 604,
     "metadata": {},
     "output_type": "execute_result"
    }
   ],
   "source": [
    "df.belongs_to_collection"
   ]
  },
  {
   "cell_type": "code",
   "execution_count": 605,
   "metadata": {},
   "outputs": [
    {
     "data": {
      "text/plain": [
       "NaN                              40975\n",
       "The Bowery Boys                     29\n",
       "Totò Collection                     27\n",
       "James Bond Collection               26\n",
       "Zatôichi: The Blind Swordsman       26\n",
       "                                 ...  \n",
       "Glass Tiger collection               1\n",
       "Kathleen Madigan Collection          1\n",
       "The Big Bottom Box                   1\n",
       "Joséphine - Saga                     1\n",
       "Red Lotus Collection                 1\n",
       "Name: belongs_to_collection, Length: 1696, dtype: int64"
      ]
     },
     "execution_count": 605,
     "metadata": {},
     "output_type": "execute_result"
    }
   ],
   "source": [
    "df.belongs_to_collection.value_counts(dropna=False)"
   ]
  },
  {
   "cell_type": "code",
   "execution_count": 606,
   "metadata": {},
   "outputs": [
    {
     "data": {
      "text/plain": [
       "[{'id': 16, 'name': 'Animation'},\n",
       " {'id': 35, 'name': 'Comedy'},\n",
       " {'id': 10751, 'name': 'Family'}]"
      ]
     },
     "execution_count": 606,
     "metadata": {},
     "output_type": "execute_result"
    }
   ],
   "source": [
    "df.genres[0]"
   ]
  },
  {
   "cell_type": "code",
   "execution_count": 607,
   "metadata": {},
   "outputs": [],
   "source": [
    "df.genres = df.genres.apply(lambda x: \"|\".join(i['name'] for i in x))"
   ]
  },
  {
   "cell_type": "code",
   "execution_count": 608,
   "metadata": {},
   "outputs": [
    {
     "data": {
      "text/plain": [
       "'Animation|Comedy|Family'"
      ]
     },
     "execution_count": 608,
     "metadata": {},
     "output_type": "execute_result"
    }
   ],
   "source": [
    "df.genres[0]"
   ]
  },
  {
   "cell_type": "code",
   "execution_count": 609,
   "metadata": {},
   "outputs": [
    {
     "data": {
      "text/plain": [
       "Drama                   5000\n",
       "Comedy                  3621\n",
       "Documentary             2723\n",
       "                        2442\n",
       "Drama|Romance           1301\n",
       "Comedy|Drama            1135\n",
       "Horror                   974\n",
       "Comedy|Romance           930\n",
       "Comedy|Drama|Romance     593\n",
       "Drama|Comedy             532\n",
       "Horror|Thriller          528\n",
       "Drama|Thriller           497\n",
       "Thriller                 465\n",
       "Crime|Drama              430\n",
       "Romance|Drama            343\n",
       "Western                  318\n",
       "Action|Thriller          301\n",
       "Drama|Foreign            283\n",
       "Action                   278\n",
       "Drama|History            267\n",
       "Name: genres, dtype: int64"
      ]
     },
     "execution_count": 609,
     "metadata": {},
     "output_type": "execute_result"
    }
   ],
   "source": [
    "df.genres.value_counts(dropna=False).head(20)"
   ]
  },
  {
   "cell_type": "code",
   "execution_count": 610,
   "metadata": {},
   "outputs": [],
   "source": [
    "df.genres.replace(\"\", np.nan, inplace=True)"
   ]
  },
  {
   "cell_type": "code",
   "execution_count": 611,
   "metadata": {},
   "outputs": [
    {
     "data": {
      "text/plain": [
       "Drama                   5000\n",
       "Comedy                  3621\n",
       "Documentary             2723\n",
       "NaN                     2442\n",
       "Drama|Romance           1301\n",
       "Comedy|Drama            1135\n",
       "Horror                   974\n",
       "Comedy|Romance           930\n",
       "Comedy|Drama|Romance     593\n",
       "Drama|Comedy             532\n",
       "Horror|Thriller          528\n",
       "Drama|Thriller           497\n",
       "Thriller                 465\n",
       "Crime|Drama              430\n",
       "Romance|Drama            343\n",
       "Western                  318\n",
       "Action|Thriller          301\n",
       "Drama|Foreign            283\n",
       "Action                   278\n",
       "Drama|History            267\n",
       "Name: genres, dtype: int64"
      ]
     },
     "execution_count": 611,
     "metadata": {},
     "output_type": "execute_result"
    }
   ],
   "source": [
    "df.genres.value_counts(dropna=False).head(20)"
   ]
  },
  {
   "cell_type": "code",
   "execution_count": 612,
   "metadata": {},
   "outputs": [],
   "source": [
    "df.spoken_languages = df.spoken_languages.apply(lambda x: \"|\".join(i['name'] for i in x) if isinstance(x, list) else np.nan)\n"
   ]
  },
  {
   "cell_type": "code",
   "execution_count": 613,
   "metadata": {},
   "outputs": [
    {
     "data": {
      "text/plain": [
       "English             22395\n",
       "                     3952\n",
       "Français             1853\n",
       "日本語                  1289\n",
       "Italiano             1218\n",
       "Español               902\n",
       "Pусский               807\n",
       "Deutsch               762\n",
       "English|Français      681\n",
       "English|Español       572\n",
       "हिन्दी                481\n",
       "English|Deutsch       462\n",
       "한국어/조선말               425\n",
       "普通话                   347\n",
       "English|Italiano      326\n",
       "svenska               311\n",
       "No Language           303\n",
       "suomi                 275\n",
       "Português             275\n",
       "Polski                213\n",
       "Name: spoken_languages, dtype: int64"
      ]
     },
     "execution_count": 613,
     "metadata": {},
     "output_type": "execute_result"
    }
   ],
   "source": [
    "df.spoken_languages.value_counts(dropna=False).head(20)"
   ]
  },
  {
   "cell_type": "code",
   "execution_count": 614,
   "metadata": {},
   "outputs": [],
   "source": [
    "df.spoken_languages.replace(\"\", np.nan, inplace=True)"
   ]
  },
  {
   "cell_type": "code",
   "execution_count": 615,
   "metadata": {},
   "outputs": [
    {
     "data": {
      "text/plain": [
       "English             22395\n",
       "NaN                  3958\n",
       "Français             1853\n",
       "日本語                  1289\n",
       "Italiano             1218\n",
       "Español               902\n",
       "Pусский               807\n",
       "Deutsch               762\n",
       "English|Français      681\n",
       "English|Español       572\n",
       "हिन्दी                481\n",
       "English|Deutsch       462\n",
       "한국어/조선말               425\n",
       "普通话                   347\n",
       "English|Italiano      326\n",
       "svenska               311\n",
       "No Language           303\n",
       "Português             275\n",
       "suomi                 275\n",
       "Polski                213\n",
       "Name: spoken_languages, dtype: int64"
      ]
     },
     "execution_count": 615,
     "metadata": {},
     "output_type": "execute_result"
    }
   ],
   "source": [
    "df.spoken_languages.value_counts(dropna=False).head(20)"
   ]
  },
  {
   "cell_type": "code",
   "execution_count": 616,
   "metadata": {},
   "outputs": [
    {
     "data": {
      "text/plain": [
       "0        [{'iso_3166_1': 'US', 'name': 'United States o...\n",
       "1        [{'iso_3166_1': 'US', 'name': 'United States o...\n",
       "2        [{'iso_3166_1': 'US', 'name': 'United States o...\n",
       "3        [{'iso_3166_1': 'US', 'name': 'United States o...\n",
       "4        [{'iso_3166_1': 'US', 'name': 'United States o...\n",
       "                               ...                        \n",
       "45461               [{'iso_3166_1': 'IR', 'name': 'Iran'}]\n",
       "45462        [{'iso_3166_1': 'PH', 'name': 'Philippines'}]\n",
       "45463    [{'iso_3166_1': 'US', 'name': 'United States o...\n",
       "45464             [{'iso_3166_1': 'RU', 'name': 'Russia'}]\n",
       "45465     [{'iso_3166_1': 'GB', 'name': 'United Kingdom'}]\n",
       "Name: production_countries, Length: 45466, dtype: object"
      ]
     },
     "execution_count": 616,
     "metadata": {},
     "output_type": "execute_result"
    }
   ],
   "source": [
    "df.production_countries"
   ]
  },
  {
   "cell_type": "code",
   "execution_count": 617,
   "metadata": {},
   "outputs": [],
   "source": [
    "df.production_countries = df.production_countries.apply(lambda x: \"|\".join(i['name'] for i in x) if isinstance(x, list) else np.nan)\n"
   ]
  },
  {
   "cell_type": "code",
   "execution_count": 618,
   "metadata": {},
   "outputs": [
    {
     "data": {
      "text/plain": [
       "United States of America                   17851\n",
       "                                            6282\n",
       "United Kingdom                              2238\n",
       "France                                      1654\n",
       "Japan                                       1356\n",
       "Italy                                       1030\n",
       "Canada                                       840\n",
       "Germany                                      749\n",
       "India                                        735\n",
       "Russia                                       735\n",
       "United Kingdom|United States of America      569\n",
       "South Korea                                  432\n",
       "Spain                                        398\n",
       "Hong Kong                                    365\n",
       "Canada|United States of America              365\n",
       "Australia                                    336\n",
       "Sweden                                       332\n",
       "Finland                                      271\n",
       "France|Italy                                 235\n",
       "Germany|United States of America             214\n",
       "Name: production_countries, dtype: int64"
      ]
     },
     "execution_count": 618,
     "metadata": {},
     "output_type": "execute_result"
    }
   ],
   "source": [
    "df.production_countries.value_counts(dropna=False).head(20)"
   ]
  },
  {
   "cell_type": "code",
   "execution_count": 619,
   "metadata": {},
   "outputs": [],
   "source": [
    "df.production_countries.replace(\"\", np.nan, inplace=True)"
   ]
  },
  {
   "cell_type": "code",
   "execution_count": 620,
   "metadata": {},
   "outputs": [
    {
     "data": {
      "text/plain": [
       "United States of America                   17851\n",
       "NaN                                         6288\n",
       "United Kingdom                              2238\n",
       "France                                      1654\n",
       "Japan                                       1356\n",
       "Italy                                       1030\n",
       "Canada                                       840\n",
       "Germany                                      749\n",
       "India                                        735\n",
       "Russia                                       735\n",
       "United Kingdom|United States of America      569\n",
       "South Korea                                  432\n",
       "Spain                                        398\n",
       "Hong Kong                                    365\n",
       "Canada|United States of America              365\n",
       "Australia                                    336\n",
       "Sweden                                       332\n",
       "Finland                                      271\n",
       "France|Italy                                 235\n",
       "Germany|United States of America             214\n",
       "Name: production_countries, dtype: int64"
      ]
     },
     "execution_count": 620,
     "metadata": {},
     "output_type": "execute_result"
    }
   ],
   "source": [
    "df.production_countries.value_counts(dropna=False).head(20)"
   ]
  },
  {
   "cell_type": "code",
   "execution_count": 621,
   "metadata": {},
   "outputs": [
    {
     "data": {
      "text/plain": [
       "0           [{'name': 'Pixar Animation Studios', 'id': 3}]\n",
       "1        [{'name': 'TriStar Pictures', 'id': 559}, {'na...\n",
       "2        [{'name': 'Warner Bros.', 'id': 6194}, {'name'...\n",
       "3        [{'name': 'Twentieth Century Fox Film Corporat...\n",
       "4        [{'name': 'Sandollar Productions', 'id': 5842}...\n",
       "                               ...                        \n",
       "45461                                                   []\n",
       "45462               [{'name': 'Sine Olivia', 'id': 19653}]\n",
       "45463    [{'name': 'American World Pictures', 'id': 6165}]\n",
       "45464                 [{'name': 'Yermoliev', 'id': 88753}]\n",
       "45465                                                   []\n",
       "Name: production_companies, Length: 45466, dtype: object"
      ]
     },
     "execution_count": 621,
     "metadata": {},
     "output_type": "execute_result"
    }
   ],
   "source": [
    "df.production_companies"
   ]
  },
  {
   "cell_type": "code",
   "execution_count": 622,
   "metadata": {},
   "outputs": [],
   "source": [
    "df.production_companies = df.production_companies.apply(lambda x: \"|\".join(i['name'] for i in x) if isinstance(x, list) else np.nan)\n"
   ]
  },
  {
   "cell_type": "code",
   "execution_count": 623,
   "metadata": {},
   "outputs": [
    {
     "data": {
      "text/plain": [
       "                                          11875\n",
       "Metro-Goldwyn-Mayer (MGM)                   742\n",
       "Warner Bros.                                540\n",
       "Paramount Pictures                          505\n",
       "Twentieth Century Fox Film Corporation      439\n",
       "Universal Pictures                          320\n",
       "RKO Radio Pictures                          247\n",
       "Columbia Pictures Corporation               207\n",
       "Columbia Pictures                           146\n",
       "Mosfilm                                     145\n",
       "Walt Disney Pictures                         85\n",
       "Universal International Pictures (UI)        82\n",
       "New Line Cinema                              75\n",
       "Walt Disney Productions                      75\n",
       "Shaw Brothers                                71\n",
       "Touchstone Pictures                          70\n",
       "Toho Company                                 65\n",
       "TriStar Pictures                             62\n",
       "Orion Pictures                               61\n",
       "Hammer Film Productions                      60\n",
       "Name: production_companies, dtype: int64"
      ]
     },
     "execution_count": 623,
     "metadata": {},
     "output_type": "execute_result"
    }
   ],
   "source": [
    "df.production_companies.value_counts(dropna=False).head(20)\n"
   ]
  },
  {
   "cell_type": "code",
   "execution_count": 624,
   "metadata": {},
   "outputs": [
    {
     "data": {
      "text/plain": [
       "NaN                                       11881\n",
       "Metro-Goldwyn-Mayer (MGM)                   742\n",
       "Warner Bros.                                540\n",
       "Paramount Pictures                          505\n",
       "Twentieth Century Fox Film Corporation      439\n",
       "Universal Pictures                          320\n",
       "RKO Radio Pictures                          247\n",
       "Columbia Pictures Corporation               207\n",
       "Columbia Pictures                           146\n",
       "Mosfilm                                     145\n",
       "Walt Disney Pictures                         85\n",
       "Universal International Pictures (UI)        82\n",
       "Walt Disney Productions                      75\n",
       "New Line Cinema                              75\n",
       "Shaw Brothers                                71\n",
       "Touchstone Pictures                          70\n",
       "Toho Company                                 65\n",
       "TriStar Pictures                             62\n",
       "Orion Pictures                               61\n",
       "Hammer Film Productions                      60\n",
       "Name: production_companies, dtype: int64"
      ]
     },
     "execution_count": 624,
     "metadata": {},
     "output_type": "execute_result"
    }
   ],
   "source": [
    "df.production_companies.replace(\"\", np.nan, inplace=True)\n",
    "\n",
    "df.production_companies.value_counts(dropna=False).head(20)"
   ]
  },
  {
   "cell_type": "code",
   "execution_count": 625,
   "metadata": {},
   "outputs": [
    {
     "data": {
      "text/plain": [
       "Unnamed: 0                   0\n",
       "belongs_to_collection    40975\n",
       "budget                       0\n",
       "genres                    2442\n",
       "id                           0\n",
       "original_language           11\n",
       "overview                   954\n",
       "popularity                   5\n",
       "production_companies     11881\n",
       "production_countries      6288\n",
       "release_date                87\n",
       "revenue                      6\n",
       "runtime                    263\n",
       "spoken_languages          3958\n",
       "status                      87\n",
       "tagline                  25054\n",
       "title                        6\n",
       "vote_average                 6\n",
       "vote_count                   6\n",
       "poster_path                970\n",
       "dtype: int64"
      ]
     },
     "execution_count": 625,
     "metadata": {},
     "output_type": "execute_result"
    }
   ],
   "source": [
    "df.isna().sum()"
   ]
  },
  {
   "cell_type": "code",
   "execution_count": 626,
   "metadata": {},
   "outputs": [
    {
     "data": {
      "text/plain": [
       "adult                        0\n",
       "belongs_to_collection    40972\n",
       "budget                       0\n",
       "genres                       0\n",
       "homepage                 37684\n",
       "id                           0\n",
       "imdb_id                     17\n",
       "original_language           11\n",
       "original_title               0\n",
       "overview                   954\n",
       "popularity                   5\n",
       "poster_path                386\n",
       "production_companies         3\n",
       "production_countries         3\n",
       "release_date                87\n",
       "revenue                      6\n",
       "runtime                    263\n",
       "spoken_languages             6\n",
       "status                      87\n",
       "tagline                  25054\n",
       "title                        6\n",
       "video                        6\n",
       "vote_average                 6\n",
       "vote_count                   6\n",
       "dtype: int64"
      ]
     },
     "execution_count": 626,
     "metadata": {},
     "output_type": "execute_result"
    }
   ],
   "source": [
    "pd.read_csv('movies_metadata.csv', low_memory=False).isna().sum()"
   ]
  },
  {
   "cell_type": "markdown",
   "metadata": {},
   "source": [
    "## Cleaning Numerical Columns"
   ]
  },
  {
   "cell_type": "code",
   "execution_count": 627,
   "metadata": {},
   "outputs": [
    {
     "name": "stdout",
     "output_type": "stream",
     "text": [
      "<class 'pandas.core.frame.DataFrame'>\n",
      "RangeIndex: 45466 entries, 0 to 45465\n",
      "Data columns (total 20 columns):\n",
      " #   Column                 Non-Null Count  Dtype  \n",
      "---  ------                 --------------  -----  \n",
      " 0   Unnamed: 0             45466 non-null  int64  \n",
      " 1   belongs_to_collection  4491 non-null   object \n",
      " 2   budget                 45466 non-null  object \n",
      " 3   genres                 43024 non-null  object \n",
      " 4   id                     45466 non-null  object \n",
      " 5   original_language      45455 non-null  object \n",
      " 6   overview               44512 non-null  object \n",
      " 7   popularity             45461 non-null  object \n",
      " 8   production_companies   33585 non-null  object \n",
      " 9   production_countries   39178 non-null  object \n",
      " 10  release_date           45379 non-null  object \n",
      " 11  revenue                45460 non-null  float64\n",
      " 12  runtime                45203 non-null  float64\n",
      " 13  spoken_languages       41508 non-null  object \n",
      " 14  status                 45379 non-null  object \n",
      " 15  tagline                20412 non-null  object \n",
      " 16  title                  45460 non-null  object \n",
      " 17  vote_average           45460 non-null  float64\n",
      " 18  vote_count             45460 non-null  float64\n",
      " 19  poster_path            44496 non-null  object \n",
      "dtypes: float64(4), int64(1), object(15)\n",
      "memory usage: 6.9+ MB\n"
     ]
    }
   ],
   "source": [
    "df.info()"
   ]
  },
  {
   "cell_type": "code",
   "execution_count": 628,
   "metadata": {},
   "outputs": [],
   "source": [
    "df.budget = pd.to_numeric(df.budget, errors='coerce')"
   ]
  },
  {
   "cell_type": "code",
   "execution_count": 629,
   "metadata": {},
   "outputs": [
    {
     "data": {
      "text/plain": [
       "0.0           36573\n",
       "5000000.0       286\n",
       "10000000.0      259\n",
       "20000000.0      243\n",
       "2000000.0       242\n",
       "              ...  \n",
       "9750000.0         1\n",
       "7275000.0         1\n",
       "78146652.0        1\n",
       "280.0             1\n",
       "1254040.0         1\n",
       "Name: budget, Length: 1224, dtype: int64"
      ]
     },
     "execution_count": 629,
     "metadata": {},
     "output_type": "execute_result"
    }
   ],
   "source": [
    "df.budget.value_counts(dropna=False)"
   ]
  },
  {
   "cell_type": "code",
   "execution_count": 630,
   "metadata": {},
   "outputs": [],
   "source": [
    "df.budget.replace(0, np.nan, inplace=True)"
   ]
  },
  {
   "cell_type": "code",
   "execution_count": 631,
   "metadata": {},
   "outputs": [],
   "source": [
    "df.budget = df.budget.div(1000000)"
   ]
  },
  {
   "cell_type": "code",
   "execution_count": 632,
   "metadata": {},
   "outputs": [
    {
     "data": {
      "text/plain": [
       "NaN           36576\n",
       "5.000000        286\n",
       "10.000000       259\n",
       "20.000000       243\n",
       "2.000000        242\n",
       "              ...  \n",
       "270.000000        1\n",
       "0.000923          1\n",
       "72.500000         1\n",
       "2.160000          1\n",
       "1.254040          1\n",
       "Name: budget, Length: 1223, dtype: int64"
      ]
     },
     "execution_count": 632,
     "metadata": {},
     "output_type": "execute_result"
    }
   ],
   "source": [
    "df.budget.value_counts(dropna=False)"
   ]
  },
  {
   "cell_type": "code",
   "execution_count": 633,
   "metadata": {},
   "outputs": [],
   "source": [
    "df.revenue.replace(0, np.nan, inplace=True)"
   ]
  },
  {
   "cell_type": "code",
   "execution_count": 634,
   "metadata": {},
   "outputs": [],
   "source": [
    "df.revenue = df.revenue.div(1000000)"
   ]
  },
  {
   "cell_type": "code",
   "execution_count": 635,
   "metadata": {},
   "outputs": [
    {
     "data": {
      "text/plain": [
       "NaN          38058\n",
       "12.000000       20\n",
       "11.000000       19\n",
       "10.000000       19\n",
       "2.000000        18\n",
       "             ...  \n",
       "36.565280        1\n",
       "0.439564         1\n",
       "35.610100        1\n",
       "10.217873        1\n",
       "1.413000         1\n",
       "Name: revenue, Length: 6863, dtype: int64"
      ]
     },
     "execution_count": 635,
     "metadata": {},
     "output_type": "execute_result"
    }
   ],
   "source": [
    "df.revenue.value_counts(dropna=False)"
   ]
  },
  {
   "cell_type": "code",
   "execution_count": 636,
   "metadata": {},
   "outputs": [],
   "source": [
    "df.rename(columns= {'budget': 'budget_musd', 'revenue': 'revenue_musd'}, inplace=True)"
   ]
  },
  {
   "cell_type": "code",
   "execution_count": 637,
   "metadata": {},
   "outputs": [
    {
     "name": "stdout",
     "output_type": "stream",
     "text": [
      "<class 'pandas.core.frame.DataFrame'>\n",
      "RangeIndex: 45466 entries, 0 to 45465\n",
      "Data columns (total 20 columns):\n",
      " #   Column                 Non-Null Count  Dtype  \n",
      "---  ------                 --------------  -----  \n",
      " 0   Unnamed: 0             45466 non-null  int64  \n",
      " 1   belongs_to_collection  4491 non-null   object \n",
      " 2   budget_musd            8890 non-null   float64\n",
      " 3   genres                 43024 non-null  object \n",
      " 4   id                     45466 non-null  object \n",
      " 5   original_language      45455 non-null  object \n",
      " 6   overview               44512 non-null  object \n",
      " 7   popularity             45461 non-null  object \n",
      " 8   production_companies   33585 non-null  object \n",
      " 9   production_countries   39178 non-null  object \n",
      " 10  release_date           45379 non-null  object \n",
      " 11  revenue_musd           7408 non-null   float64\n",
      " 12  runtime                45203 non-null  float64\n",
      " 13  spoken_languages       41508 non-null  object \n",
      " 14  status                 45379 non-null  object \n",
      " 15  tagline                20412 non-null  object \n",
      " 16  title                  45460 non-null  object \n",
      " 17  vote_average           45460 non-null  float64\n",
      " 18  vote_count             45460 non-null  float64\n",
      " 19  poster_path            44496 non-null  object \n",
      "dtypes: float64(5), int64(1), object(14)\n",
      "memory usage: 6.9+ MB\n"
     ]
    }
   ],
   "source": [
    "df.info()"
   ]
  },
  {
   "cell_type": "code",
   "execution_count": 638,
   "metadata": {},
   "outputs": [
    {
     "data": {
      "text/plain": [
       "90.0     2556\n",
       "0.0      1558\n",
       "100.0    1470\n",
       "95.0     1412\n",
       "93.0     1214\n",
       "96.0     1104\n",
       "92.0     1080\n",
       "94.0     1062\n",
       "91.0     1057\n",
       "88.0     1032\n",
       "97.0     1027\n",
       "85.0     1024\n",
       "98.0     1019\n",
       "105.0    1002\n",
       "89.0      958\n",
       "87.0      919\n",
       "110.0     850\n",
       "86.0      846\n",
       "99.0      794\n",
       "102.0     791\n",
       "Name: runtime, dtype: int64"
      ]
     },
     "execution_count": 638,
     "metadata": {},
     "output_type": "execute_result"
    }
   ],
   "source": [
    "df.runtime.value_counts(dropna=False).head(20)"
   ]
  },
  {
   "cell_type": "code",
   "execution_count": 639,
   "metadata": {},
   "outputs": [],
   "source": [
    "df.runtime.replace(0, np.nan, inplace=True)"
   ]
  },
  {
   "cell_type": "code",
   "execution_count": 640,
   "metadata": {},
   "outputs": [
    {
     "name": "stdout",
     "output_type": "stream",
     "text": [
      "<class 'pandas.core.frame.DataFrame'>\n",
      "RangeIndex: 45466 entries, 0 to 45465\n",
      "Data columns (total 20 columns):\n",
      " #   Column                 Non-Null Count  Dtype  \n",
      "---  ------                 --------------  -----  \n",
      " 0   Unnamed: 0             45466 non-null  int64  \n",
      " 1   belongs_to_collection  4491 non-null   object \n",
      " 2   budget_musd            8890 non-null   float64\n",
      " 3   genres                 43024 non-null  object \n",
      " 4   id                     45466 non-null  object \n",
      " 5   original_language      45455 non-null  object \n",
      " 6   overview               44512 non-null  object \n",
      " 7   popularity             45461 non-null  object \n",
      " 8   production_companies   33585 non-null  object \n",
      " 9   production_countries   39178 non-null  object \n",
      " 10  release_date           45379 non-null  object \n",
      " 11  revenue_musd           7408 non-null   float64\n",
      " 12  runtime                43645 non-null  float64\n",
      " 13  spoken_languages       41508 non-null  object \n",
      " 14  status                 45379 non-null  object \n",
      " 15  tagline                20412 non-null  object \n",
      " 16  title                  45460 non-null  object \n",
      " 17  vote_average           45460 non-null  float64\n",
      " 18  vote_count             45460 non-null  float64\n",
      " 19  poster_path            44496 non-null  object \n",
      "dtypes: float64(5), int64(1), object(14)\n",
      "memory usage: 6.9+ MB\n"
     ]
    }
   ],
   "source": [
    "df.info()"
   ]
  },
  {
   "cell_type": "code",
   "execution_count": 641,
   "metadata": {},
   "outputs": [
    {
     "data": {
      "text/plain": [
       "141971    3\n",
       "168538    2\n",
       "25541     2\n",
       "15028     2\n",
       "11115     2\n",
       "84198     2\n",
       "13209     2\n",
       "77221     2\n",
       "152795    2\n",
       "12600     2\n",
       "10991     2\n",
       "42495     2\n",
       "14788     2\n",
       "18440     2\n",
       "105045    2\n",
       "159849    2\n",
       "22649     2\n",
       "4912      2\n",
       "132641    2\n",
       "110428    2\n",
       "Name: id, dtype: int64"
      ]
     },
     "execution_count": 641,
     "metadata": {},
     "output_type": "execute_result"
    }
   ],
   "source": [
    "df.id.value_counts(dropna=False).head(20)"
   ]
  },
  {
   "cell_type": "code",
   "execution_count": 642,
   "metadata": {},
   "outputs": [
    {
     "data": {
      "text/html": [
       "<div>\n",
       "<style scoped>\n",
       "    .dataframe tbody tr th:only-of-type {\n",
       "        vertical-align: middle;\n",
       "    }\n",
       "\n",
       "    .dataframe tbody tr th {\n",
       "        vertical-align: top;\n",
       "    }\n",
       "\n",
       "    .dataframe thead th {\n",
       "        text-align: right;\n",
       "    }\n",
       "</style>\n",
       "<table border=\"1\" class=\"dataframe\">\n",
       "  <thead>\n",
       "    <tr style=\"text-align: right;\">\n",
       "      <th></th>\n",
       "      <th>Unnamed: 0</th>\n",
       "      <th>belongs_to_collection</th>\n",
       "      <th>budget_musd</th>\n",
       "      <th>genres</th>\n",
       "      <th>id</th>\n",
       "      <th>original_language</th>\n",
       "      <th>overview</th>\n",
       "      <th>popularity</th>\n",
       "      <th>production_companies</th>\n",
       "      <th>production_countries</th>\n",
       "      <th>release_date</th>\n",
       "      <th>revenue_musd</th>\n",
       "      <th>runtime</th>\n",
       "      <th>spoken_languages</th>\n",
       "      <th>status</th>\n",
       "      <th>tagline</th>\n",
       "      <th>title</th>\n",
       "      <th>vote_average</th>\n",
       "      <th>vote_count</th>\n",
       "      <th>poster_path</th>\n",
       "    </tr>\n",
       "  </thead>\n",
       "  <tbody>\n",
       "    <tr>\n",
       "      <th>13261</th>\n",
       "      <td>13261</td>\n",
       "      <td>NaN</td>\n",
       "      <td>NaN</td>\n",
       "      <td>Thriller|Mystery</td>\n",
       "      <td>141971</td>\n",
       "      <td>fi</td>\n",
       "      <td>Recovering from a nail gun shot to the head an...</td>\n",
       "      <td>0.411949</td>\n",
       "      <td>Filmiteollisuus Fine</td>\n",
       "      <td>Finland</td>\n",
       "      <td>2008-12-26</td>\n",
       "      <td>NaN</td>\n",
       "      <td>108.0</td>\n",
       "      <td>suomi</td>\n",
       "      <td>Released</td>\n",
       "      <td>Which one is the first to return - memory or t...</td>\n",
       "      <td>Blackout</td>\n",
       "      <td>6.7</td>\n",
       "      <td>3.0</td>\n",
       "      <td>&lt;img src='http://image.tmdb.org/t/p/w185//loPW...</td>\n",
       "    </tr>\n",
       "    <tr>\n",
       "      <th>13375</th>\n",
       "      <td>13375</td>\n",
       "      <td>NaN</td>\n",
       "      <td>NaN</td>\n",
       "      <td>Thriller|Mystery</td>\n",
       "      <td>141971</td>\n",
       "      <td>fi</td>\n",
       "      <td>Recovering from a nail gun shot to the head an...</td>\n",
       "      <td>0.411949</td>\n",
       "      <td>Filmiteollisuus Fine</td>\n",
       "      <td>Finland</td>\n",
       "      <td>2008-12-26</td>\n",
       "      <td>NaN</td>\n",
       "      <td>108.0</td>\n",
       "      <td>suomi</td>\n",
       "      <td>Released</td>\n",
       "      <td>Which one is the first to return - memory or t...</td>\n",
       "      <td>Blackout</td>\n",
       "      <td>6.7</td>\n",
       "      <td>3.0</td>\n",
       "      <td>&lt;img src='http://image.tmdb.org/t/p/w185//loPW...</td>\n",
       "    </tr>\n",
       "    <tr>\n",
       "      <th>16764</th>\n",
       "      <td>16764</td>\n",
       "      <td>NaN</td>\n",
       "      <td>NaN</td>\n",
       "      <td>Thriller|Mystery</td>\n",
       "      <td>141971</td>\n",
       "      <td>fi</td>\n",
       "      <td>Recovering from a nail gun shot to the head an...</td>\n",
       "      <td>0.411949</td>\n",
       "      <td>Filmiteollisuus Fine</td>\n",
       "      <td>Finland</td>\n",
       "      <td>2008-12-26</td>\n",
       "      <td>NaN</td>\n",
       "      <td>108.0</td>\n",
       "      <td>suomi</td>\n",
       "      <td>Released</td>\n",
       "      <td>Which one is the first to return - memory or t...</td>\n",
       "      <td>Blackout</td>\n",
       "      <td>6.7</td>\n",
       "      <td>3.0</td>\n",
       "      <td>&lt;img src='http://image.tmdb.org/t/p/w185//loPW...</td>\n",
       "    </tr>\n",
       "  </tbody>\n",
       "</table>\n",
       "</div>"
      ],
      "text/plain": [
       "       Unnamed: 0 belongs_to_collection  budget_musd            genres  \\\n",
       "13261       13261                   NaN          NaN  Thriller|Mystery   \n",
       "13375       13375                   NaN          NaN  Thriller|Mystery   \n",
       "16764       16764                   NaN          NaN  Thriller|Mystery   \n",
       "\n",
       "           id original_language  \\\n",
       "13261  141971                fi   \n",
       "13375  141971                fi   \n",
       "16764  141971                fi   \n",
       "\n",
       "                                                overview popularity  \\\n",
       "13261  Recovering from a nail gun shot to the head an...   0.411949   \n",
       "13375  Recovering from a nail gun shot to the head an...   0.411949   \n",
       "16764  Recovering from a nail gun shot to the head an...   0.411949   \n",
       "\n",
       "       production_companies production_countries release_date  revenue_musd  \\\n",
       "13261  Filmiteollisuus Fine              Finland   2008-12-26           NaN   \n",
       "13375  Filmiteollisuus Fine              Finland   2008-12-26           NaN   \n",
       "16764  Filmiteollisuus Fine              Finland   2008-12-26           NaN   \n",
       "\n",
       "       runtime spoken_languages    status  \\\n",
       "13261    108.0            suomi  Released   \n",
       "13375    108.0            suomi  Released   \n",
       "16764    108.0            suomi  Released   \n",
       "\n",
       "                                                 tagline     title  \\\n",
       "13261  Which one is the first to return - memory or t...  Blackout   \n",
       "13375  Which one is the first to return - memory or t...  Blackout   \n",
       "16764  Which one is the first to return - memory or t...  Blackout   \n",
       "\n",
       "       vote_average  vote_count  \\\n",
       "13261           6.7         3.0   \n",
       "13375           6.7         3.0   \n",
       "16764           6.7         3.0   \n",
       "\n",
       "                                             poster_path  \n",
       "13261  <img src='http://image.tmdb.org/t/p/w185//loPW...  \n",
       "13375  <img src='http://image.tmdb.org/t/p/w185//loPW...  \n",
       "16764  <img src='http://image.tmdb.org/t/p/w185//loPW...  "
      ]
     },
     "execution_count": 642,
     "metadata": {},
     "output_type": "execute_result"
    }
   ],
   "source": [
    "df[df.id == '141971']"
   ]
  },
  {
   "cell_type": "code",
   "execution_count": 643,
   "metadata": {},
   "outputs": [
    {
     "data": {
      "text/plain": [
       "0           862.0\n",
       "1          8844.0\n",
       "2         15602.0\n",
       "3         31357.0\n",
       "4         11862.0\n",
       "           ...   \n",
       "45461    439050.0\n",
       "45462    111109.0\n",
       "45463     67758.0\n",
       "45464    227506.0\n",
       "45465    461257.0\n",
       "Name: id, Length: 45466, dtype: float64"
      ]
     },
     "execution_count": 643,
     "metadata": {},
     "output_type": "execute_result"
    }
   ],
   "source": [
    "pd.to_numeric(df.id, errors='coerce')"
   ]
  },
  {
   "cell_type": "code",
   "execution_count": 644,
   "metadata": {},
   "outputs": [],
   "source": [
    "df.popularity = pd.to_numeric(df.popularity, errors='coerce')"
   ]
  },
  {
   "cell_type": "code",
   "execution_count": 645,
   "metadata": {},
   "outputs": [
    {
     "data": {
      "text/plain": [
       "0.000000    66\n",
       "0.000001    56\n",
       "0.000308    43\n",
       "0.000220    40\n",
       "0.000844    38\n",
       "0.000578    38\n",
       "0.001177    38\n",
       "0.002001    28\n",
       "0.003013    21\n",
       "0.001393    19\n",
       "0.003530    19\n",
       "0.036471    18\n",
       "0.002353    18\n",
       "0.000603    16\n",
       "0.001586    15\n",
       "0.004425    14\n",
       "0.001021    13\n",
       "0.000431    13\n",
       "0.004706    12\n",
       "0.001247    11\n",
       "Name: popularity, dtype: int64"
      ]
     },
     "execution_count": 645,
     "metadata": {},
     "output_type": "execute_result"
    }
   ],
   "source": [
    "df.popularity.value_counts(dropna=False).head(20)"
   ]
  },
  {
   "cell_type": "code",
   "execution_count": 646,
   "metadata": {},
   "outputs": [
    {
     "data": {
      "text/plain": [
       "1.0     3264\n",
       "2.0     3132\n",
       "0.0     2899\n",
       "3.0     2787\n",
       "4.0     2480\n",
       "5.0     2097\n",
       "6.0     1747\n",
       "7.0     1570\n",
       "8.0     1359\n",
       "9.0     1194\n",
       "10.0    1171\n",
       "11.0     944\n",
       "12.0     859\n",
       "13.0     733\n",
       "14.0     700\n",
       "15.0     674\n",
       "16.0     601\n",
       "17.0     554\n",
       "18.0     497\n",
       "20.0     463\n",
       "Name: vote_count, dtype: int64"
      ]
     },
     "execution_count": 646,
     "metadata": {},
     "output_type": "execute_result"
    }
   ],
   "source": [
    "df.vote_count.value_counts(dropna=False).head(20)"
   ]
  },
  {
   "cell_type": "code",
   "execution_count": 647,
   "metadata": {},
   "outputs": [
    {
     "data": {
      "text/plain": [
       "0.0    2998\n",
       "6.0    2468\n",
       "5.0    2001\n",
       "7.0    1886\n",
       "6.5    1722\n",
       "6.3    1603\n",
       "5.5    1381\n",
       "5.8    1369\n",
       "6.4    1350\n",
       "6.7    1342\n",
       "6.8    1324\n",
       "6.1    1281\n",
       "6.6    1263\n",
       "6.2    1253\n",
       "5.9    1196\n",
       "5.3    1082\n",
       "5.7    1046\n",
       "6.9    1037\n",
       "5.6    1006\n",
       "7.3    1000\n",
       "Name: vote_average, dtype: int64"
      ]
     },
     "execution_count": 647,
     "metadata": {},
     "output_type": "execute_result"
    }
   ],
   "source": [
    "df.vote_average.value_counts(dropna=False).head(20)"
   ]
  },
  {
   "cell_type": "code",
   "execution_count": 648,
   "metadata": {},
   "outputs": [
    {
     "data": {
      "text/plain": [
       "83       0.0\n",
       "107      0.0\n",
       "126      0.0\n",
       "132      0.0\n",
       "137      0.0\n",
       "        ... \n",
       "45432    0.0\n",
       "45434    0.0\n",
       "45452    0.0\n",
       "45464    0.0\n",
       "45465    0.0\n",
       "Name: vote_average, Length: 2899, dtype: float64"
      ]
     },
     "execution_count": 648,
     "metadata": {},
     "output_type": "execute_result"
    }
   ],
   "source": [
    "df.loc[df.vote_count == 0, \"vote_average\"]"
   ]
  },
  {
   "cell_type": "code",
   "execution_count": 649,
   "metadata": {},
   "outputs": [],
   "source": [
    "df.loc[df.vote_count == 0, \"vote_average\"] = np.nan"
   ]
  },
  {
   "cell_type": "code",
   "execution_count": 650,
   "metadata": {},
   "outputs": [
    {
     "name": "stdout",
     "output_type": "stream",
     "text": [
      "<class 'pandas.core.frame.DataFrame'>\n",
      "RangeIndex: 45466 entries, 0 to 45465\n",
      "Data columns (total 20 columns):\n",
      " #   Column                 Non-Null Count  Dtype  \n",
      "---  ------                 --------------  -----  \n",
      " 0   Unnamed: 0             45466 non-null  int64  \n",
      " 1   belongs_to_collection  4491 non-null   object \n",
      " 2   budget_musd            8890 non-null   float64\n",
      " 3   genres                 43024 non-null  object \n",
      " 4   id                     45466 non-null  object \n",
      " 5   original_language      45455 non-null  object \n",
      " 6   overview               44512 non-null  object \n",
      " 7   popularity             45460 non-null  float64\n",
      " 8   production_companies   33585 non-null  object \n",
      " 9   production_countries   39178 non-null  object \n",
      " 10  release_date           45379 non-null  object \n",
      " 11  revenue_musd           7408 non-null   float64\n",
      " 12  runtime                43645 non-null  float64\n",
      " 13  spoken_languages       41508 non-null  object \n",
      " 14  status                 45379 non-null  object \n",
      " 15  tagline                20412 non-null  object \n",
      " 16  title                  45460 non-null  object \n",
      " 17  vote_average           42561 non-null  float64\n",
      " 18  vote_count             45460 non-null  float64\n",
      " 19  poster_path            44496 non-null  object \n",
      "dtypes: float64(6), int64(1), object(13)\n",
      "memory usage: 6.9+ MB\n"
     ]
    }
   ],
   "source": [
    "df.info()"
   ]
  },
  {
   "cell_type": "markdown",
   "metadata": {},
   "source": [
    "### Cleaning DateTime Columns"
   ]
  },
  {
   "cell_type": "code",
   "execution_count": 651,
   "metadata": {},
   "outputs": [
    {
     "name": "stdout",
     "output_type": "stream",
     "text": [
      "<class 'pandas.core.frame.DataFrame'>\n",
      "RangeIndex: 45466 entries, 0 to 45465\n",
      "Data columns (total 20 columns):\n",
      " #   Column                 Non-Null Count  Dtype  \n",
      "---  ------                 --------------  -----  \n",
      " 0   Unnamed: 0             45466 non-null  int64  \n",
      " 1   belongs_to_collection  4491 non-null   object \n",
      " 2   budget_musd            8890 non-null   float64\n",
      " 3   genres                 43024 non-null  object \n",
      " 4   id                     45466 non-null  object \n",
      " 5   original_language      45455 non-null  object \n",
      " 6   overview               44512 non-null  object \n",
      " 7   popularity             45460 non-null  float64\n",
      " 8   production_companies   33585 non-null  object \n",
      " 9   production_countries   39178 non-null  object \n",
      " 10  release_date           45379 non-null  object \n",
      " 11  revenue_musd           7408 non-null   float64\n",
      " 12  runtime                43645 non-null  float64\n",
      " 13  spoken_languages       41508 non-null  object \n",
      " 14  status                 45379 non-null  object \n",
      " 15  tagline                20412 non-null  object \n",
      " 16  title                  45460 non-null  object \n",
      " 17  vote_average           42561 non-null  float64\n",
      " 18  vote_count             45460 non-null  float64\n",
      " 19  poster_path            44496 non-null  object \n",
      "dtypes: float64(6), int64(1), object(13)\n",
      "memory usage: 6.9+ MB\n"
     ]
    }
   ],
   "source": [
    "df.info()"
   ]
  },
  {
   "cell_type": "code",
   "execution_count": 652,
   "metadata": {},
   "outputs": [],
   "source": [
    "df.release_date = pd.to_datetime(df.release_date, errors='coerce')"
   ]
  },
  {
   "cell_type": "code",
   "execution_count": 653,
   "metadata": {},
   "outputs": [
    {
     "data": {
      "text/plain": [
       "2008-01-01    136\n",
       "2009-01-01    121\n",
       "2007-01-01    118\n",
       "2005-01-01    111\n",
       "2006-01-01    101\n",
       "2002-01-01     96\n",
       "2004-01-01     90\n",
       "NaT            90\n",
       "2001-01-01     84\n",
       "2003-01-01     76\n",
       "1997-01-01     69\n",
       "2010-01-01     68\n",
       "1998-01-01     67\n",
       "1999-01-01     67\n",
       "2000-01-01     64\n",
       "1987-01-01     63\n",
       "1988-01-01     63\n",
       "1994-01-01     61\n",
       "1989-01-01     60\n",
       "2011-01-01     56\n",
       "Name: release_date, dtype: int64"
      ]
     },
     "execution_count": 653,
     "metadata": {},
     "output_type": "execute_result"
    }
   ],
   "source": [
    "df.release_date.value_counts(dropna=False).head(20)"
   ]
  },
  {
   "cell_type": "code",
   "execution_count": 654,
   "metadata": {},
   "outputs": [
    {
     "name": "stdout",
     "output_type": "stream",
     "text": [
      "<class 'pandas.core.frame.DataFrame'>\n",
      "RangeIndex: 45466 entries, 0 to 45465\n",
      "Data columns (total 20 columns):\n",
      " #   Column                 Non-Null Count  Dtype         \n",
      "---  ------                 --------------  -----         \n",
      " 0   Unnamed: 0             45466 non-null  int64         \n",
      " 1   belongs_to_collection  4491 non-null   object        \n",
      " 2   budget_musd            8890 non-null   float64       \n",
      " 3   genres                 43024 non-null  object        \n",
      " 4   id                     45466 non-null  object        \n",
      " 5   original_language      45455 non-null  object        \n",
      " 6   overview               44512 non-null  object        \n",
      " 7   popularity             45460 non-null  float64       \n",
      " 8   production_companies   33585 non-null  object        \n",
      " 9   production_countries   39178 non-null  object        \n",
      " 10  release_date           45376 non-null  datetime64[ns]\n",
      " 11  revenue_musd           7408 non-null   float64       \n",
      " 12  runtime                43645 non-null  float64       \n",
      " 13  spoken_languages       41508 non-null  object        \n",
      " 14  status                 45379 non-null  object        \n",
      " 15  tagline                20412 non-null  object        \n",
      " 16  title                  45460 non-null  object        \n",
      " 17  vote_average           42561 non-null  float64       \n",
      " 18  vote_count             45460 non-null  float64       \n",
      " 19  poster_path            44496 non-null  object        \n",
      "dtypes: datetime64[ns](1), float64(6), int64(1), object(12)\n",
      "memory usage: 6.9+ MB\n"
     ]
    }
   ],
   "source": [
    "df.info()"
   ]
  },
  {
   "cell_type": "markdown",
   "metadata": {},
   "source": [
    "## Cleaning Text / String Columns"
   ]
  },
  {
   "cell_type": "code",
   "execution_count": 655,
   "metadata": {},
   "outputs": [
    {
     "data": {
      "text/plain": [
       "en    32269\n",
       "fr     2438\n",
       "it     1529\n",
       "ja     1350\n",
       "de     1080\n",
       "es      994\n",
       "ru      826\n",
       "hi      508\n",
       "ko      444\n",
       "zh      409\n",
       "sv      384\n",
       "pt      316\n",
       "cn      313\n",
       "fi      297\n",
       "nl      248\n",
       "da      225\n",
       "pl      219\n",
       "tr      150\n",
       "cs      130\n",
       "el      113\n",
       "Name: original_language, dtype: int64"
      ]
     },
     "execution_count": 655,
     "metadata": {},
     "output_type": "execute_result"
    }
   ],
   "source": [
    "df.original_language.value_counts(dropna=False).head(20)"
   ]
  },
  {
   "cell_type": "code",
   "execution_count": 656,
   "metadata": {},
   "outputs": [
    {
     "data": {
      "text/plain": [
       "Cinderella              11\n",
       "Alice in Wonderland      9\n",
       "Hamlet                   9\n",
       "Les Misérables           8\n",
       "Beauty and the Beast     8\n",
       "Treasure Island          7\n",
       "A Christmas Carol        7\n",
       "The Three Musketeers     7\n",
       "Blackout                 7\n",
       "Home                     6\n",
       "Macbeth                  6\n",
       "The Journey              6\n",
       "The Hunters              6\n",
       "The Forest               6\n",
       "Mother                   6\n",
       "Countdown                6\n",
       "Love                     6\n",
       "The Stranger             6\n",
       "Heidi                    6\n",
       "Bluebeard                6\n",
       "Name: title, dtype: int64"
      ]
     },
     "execution_count": 656,
     "metadata": {},
     "output_type": "execute_result"
    }
   ],
   "source": [
    "df.title.value_counts(dropna=False).head(20)"
   ]
  },
  {
   "cell_type": "code",
   "execution_count": 657,
   "metadata": {},
   "outputs": [
    {
     "data": {
      "text/plain": [
       "NaN                                                                                                                                                                                                                                                                                                                                                                                                                                                                                                                                                                                                                                                                                                                                                                                                                                                              954\n",
       "No overview found.                                                                                                                                                                                                                                                                                                                                                                                                                                                                                                                                                                                                                                                                                                                                                                                                                                               133\n",
       "No Overview                                                                                                                                                                                                                                                                                                                                                                                                                                                                                                                                                                                                                                                                                                                                                                                                                                                        7\n",
       "                                                                                                                                                                                                                                                                                                                                                                                                                                                                                                                                                                                                                                                                                                                                                                                                                                                                   5\n",
       "No movie overview available.                                                                                                                                                                                                                                                                                                                                                                                                                                                                                                                                                                                                                                                                                                                                                                                                                                       3\n",
       "A few funny little novels about different aspects of life.                                                                                                                                                                                                                                                                                                                                                                                                                                                                                                                                                                                                                                                                                                                                                                                                         3\n",
       "Recovering from a nail gun shot to the head and 13 months of coma, doctor Pekka Valinta starts to unravel the mystery of his past, still suffering from total amnesia.                                                                                                                                                                                                                                                                                                                                                                                                                                                                                                                                                                                                                                                                                             3\n",
       "King Lear, old and tired, divides his kingdom among his daughters, giving great importance to their protestations of love for him. When Cordelia, youngest and most honest, refuses to idly flatter the old man in return for favor, he banishes her and turns for support to his remaining daughters. But Goneril and Regan have no love for him and instead plot to take all his power from him. In a parallel, Lear's loyal courtier Gloucester favors his illegitimate son Edmund after being told lies about his faithful son Edgar. Madness and tragedy befall both ill-starred fathers.                                                                                                                                                                                                                                                                     3\n",
       "Adaptation of the Jane Austen novel.                                                                                                                                                                                                                                                                                                                                                                                                                                                                                                                                                                                                                                                                                                                                                                                                                               3\n",
       "Released                                                                                                                                                                                                                                                                                                                                                                                                                                                                                                                                                                                                                                                                                                                                                                                                                                                           3\n",
       "In a hospital, ten soldiers are being treated for a mysterious sleeping sickness. In a story in which dreams can be experienced by others, and in which goddesses can sit casually with mortals, a nurse learns the reason why the patients will never be cured, and forms a telepathic bond with one of them.                                                                                                                                                                                                                                                                                                                                                                                                                                                                                                                                                     2\n",
       "The ghost of a samurai's wife takes revenge on her husband.                                                                                                                                                                                                                                                                                                                                                                                                                                                                                                                                                                                                                                                                                                                                                                                                        2\n",
       "East-Berlin, 1961, shortly after the erection of the Wall. Konrad, Sophie and three of their friends plan a daring escape to Western Germany. The attempt is successful, except for Konrad, who remains behind. From then on, and for the next 28 years, Konrad and Sophie will attempt to meet again, in spite of the Iron Curtain. Konrad, who has become a reputed Astrophysicist, tries to take advantage of scientific congresses outside Eastern Germany to arrange encounters with Sophie. But in a country where the political police, the Stasi, monitors the moves of all suspicious people (such as Konrad's sister Barbara and her husband Harald), preserving one's privacy, ideals and self-respect becomes an exhausting fight, even as the Eastern block begins its long process of disintegration.                                                2\n",
       "Funny, entertaining comedy with a few storylines. All of them have one thing in common - a resort town of Rimini in Italy.                                                                                                                                                                                                                                                                                                                                                                                                                                                                                                                                                                                                                                                                                                                                         2\n",
       "Two literary women compete for 20 years: one writes for the critics; the other one, to get rich.                                                                                                                                                                                                                                                                                                                                                                                                                                                                                                                                                                                                                                                                                                                                                                   2\n",
       "All your favorite Pokémon characters are back, and are joined for the first time by the legendary Pokémon Celebi and Suicune, in this latest exciting Pokémon adventure! In order to escape a greedy Pokémon hunter, Celebi must use the last of its energy to travel through time to the present day. Celebi brings along Sammy, a boy who had been trying to protect it. Along with Ash, Pikachu, and the rest of the gang, Sammy and Celebi encounter an enemy far more advanced than the hunter left behind in the past. This new enemy possesses a Pokéball called a “Dark Ball,” which transforms the Pokémon it captures into evil and far stronger creatures. When Celebi is captured, the fate of the entire forest is threatened. Let POKÉMON 4EVER transport you to a world of adventure as Ash, Suicune and the rest take action to save the day!      2\n",
       "Ten years into a marriage, the wife is disappointed by the husband's lack of financial success, meaning she has to work and can't treat herself and the husband finds the wife slovenly and mean-spirited: she neither cooks not cleans particularly well and is generally disagreeable. In turn, he alternately ignores her and treats her as a servant. Neither is particularly happy, not helped by their unsatisfactory lodgers. The husband is easily seduced by an ex-colleague, a widow with a small child who needs some security, and considers leaving his wife.                                                                                                                                                                                                                                                                                         2\n",
       "Mary, a writer working on a novel about a love triangle, is attracted to her publisher. Her suitor Jimmy is determined to break them up; he introduces Mary to the publisher's wife without telling Mary who she is.                                                                                                                                                                                                                                                                                                                                                                                                                                                                                                                                                                                                                                               2\n",
       "Count de Chagnie has discovered Christine's singing talent on a market place and sent her to his friend Carriere, the director of the Parisian opera. However just when she arrives Carriere's dismissed. His arrogant successor refuses to let a woman of low birth sing in his opera, but graciously employs Christine as gadrobiere for his wife Charlotta, who's installed as first singer. He also fights the phantom, an unknown guy who lives since many years in the catacombs below the opera and was granted privileges by Carriere. However the phantom knows how to defend himself and at the same time helps Christine to her career.                                                                                                                                                                                                                 2\n",
       "As an ex-gambler teaches a hot-shot college kid some things about playing cards, he finds himself pulled into the world series of poker, where his protégé is his toughest competition.                                                                                                                                                                                                                                                                                                                                                                                                                                                                                                                                                                                                                                                                            2\n",
       "Name: overview, dtype: int64"
      ]
     },
     "execution_count": 657,
     "metadata": {},
     "output_type": "execute_result"
    }
   ],
   "source": [
    "df.overview.value_counts(dropna=False).head(20)"
   ]
  },
  {
   "cell_type": "code",
   "execution_count": 658,
   "metadata": {},
   "outputs": [],
   "source": [
    "df.overview.replace(\"No overview found.\", np.nan, inplace=True)"
   ]
  },
  {
   "cell_type": "code",
   "execution_count": 659,
   "metadata": {},
   "outputs": [],
   "source": [
    "df.overview.replace(\"No Overview\", np.nan, inplace=True)"
   ]
  },
  {
   "cell_type": "code",
   "execution_count": 660,
   "metadata": {},
   "outputs": [],
   "source": [
    "df.overview.replace(\" \", np.nan, inplace=True)"
   ]
  },
  {
   "cell_type": "code",
   "execution_count": 661,
   "metadata": {},
   "outputs": [],
   "source": [
    "df.overview.replace(\"No movie overview available.\", np.nan, inplace=True)"
   ]
  },
  {
   "cell_type": "code",
   "execution_count": 662,
   "metadata": {},
   "outputs": [],
   "source": [
    "df.overview.replace(\" \", np.nan, inplace=True)"
   ]
  },
  {
   "cell_type": "code",
   "execution_count": 663,
   "metadata": {},
   "outputs": [
    {
     "data": {
      "text/plain": [
       "NaN                                                           25054\n",
       "Based on a true story.                                            7\n",
       "Trust no one.                                                     4\n",
       "Be careful what you wish for.                                     4\n",
       "-                                                                 4\n",
       "Classic Albums                                                    3\n",
       "Some doors should never be opened.                                3\n",
       "A Love Story                                                      3\n",
       "Drama                                                             3\n",
       "Know Your Enemy                                                   3\n",
       "Which one is the first to return - memory or the murderer?        3\n",
       "How far would you go?                                             3\n",
       "The end is near.                                                  3\n",
       "There is no turning back                                          3\n",
       "There are two sides to every love story.                          3\n",
       "Documentary                                                       3\n",
       "Who is John Galt?                                                 3\n",
       "Revenge Has No Limits                                             2\n",
       "Who's next?                                                       2\n",
       "It's never too late.                                              2\n",
       "Name: tagline, dtype: int64"
      ]
     },
     "execution_count": 663,
     "metadata": {},
     "output_type": "execute_result"
    }
   ],
   "source": [
    "df.tagline.value_counts(dropna=False).head(20)"
   ]
  },
  {
   "cell_type": "code",
   "execution_count": 664,
   "metadata": {},
   "outputs": [],
   "source": [
    "df.tagline.replace(\"-\", np.nan, inplace=True)"
   ]
  },
  {
   "cell_type": "markdown",
   "metadata": {},
   "source": [
    "## Removing Duplicates"
   ]
  },
  {
   "cell_type": "code",
   "execution_count": 665,
   "metadata": {
    "scrolled": false
   },
   "outputs": [
    {
     "data": {
      "text/html": [
       "<div>\n",
       "<style scoped>\n",
       "    .dataframe tbody tr th:only-of-type {\n",
       "        vertical-align: middle;\n",
       "    }\n",
       "\n",
       "    .dataframe tbody tr th {\n",
       "        vertical-align: top;\n",
       "    }\n",
       "\n",
       "    .dataframe thead th {\n",
       "        text-align: right;\n",
       "    }\n",
       "</style>\n",
       "<table border=\"1\" class=\"dataframe\">\n",
       "  <thead>\n",
       "    <tr style=\"text-align: right;\">\n",
       "      <th></th>\n",
       "      <th>Unnamed: 0</th>\n",
       "      <th>belongs_to_collection</th>\n",
       "      <th>budget_musd</th>\n",
       "      <th>genres</th>\n",
       "      <th>id</th>\n",
       "      <th>original_language</th>\n",
       "      <th>overview</th>\n",
       "      <th>popularity</th>\n",
       "      <th>production_companies</th>\n",
       "      <th>production_countries</th>\n",
       "      <th>release_date</th>\n",
       "      <th>revenue_musd</th>\n",
       "      <th>runtime</th>\n",
       "      <th>spoken_languages</th>\n",
       "      <th>status</th>\n",
       "      <th>tagline</th>\n",
       "      <th>title</th>\n",
       "      <th>vote_average</th>\n",
       "      <th>vote_count</th>\n",
       "      <th>poster_path</th>\n",
       "    </tr>\n",
       "  </thead>\n",
       "  <tbody>\n",
       "  </tbody>\n",
       "</table>\n",
       "</div>"
      ],
      "text/plain": [
       "Empty DataFrame\n",
       "Columns: [Unnamed: 0, belongs_to_collection, budget_musd, genres, id, original_language, overview, popularity, production_companies, production_countries, release_date, revenue_musd, runtime, spoken_languages, status, tagline, title, vote_average, vote_count, poster_path]\n",
       "Index: []"
      ]
     },
     "execution_count": 665,
     "metadata": {},
     "output_type": "execute_result"
    }
   ],
   "source": [
    "df[df.duplicated(keep=False)].sort_values(by='id').head(10)"
   ]
  },
  {
   "cell_type": "code",
   "execution_count": 666,
   "metadata": {},
   "outputs": [],
   "source": [
    "df.drop_duplicates(inplace=True)"
   ]
  },
  {
   "cell_type": "code",
   "execution_count": 667,
   "metadata": {},
   "outputs": [
    {
     "data": {
      "text/html": [
       "<div>\n",
       "<style scoped>\n",
       "    .dataframe tbody tr th:only-of-type {\n",
       "        vertical-align: middle;\n",
       "    }\n",
       "\n",
       "    .dataframe tbody tr th {\n",
       "        vertical-align: top;\n",
       "    }\n",
       "\n",
       "    .dataframe thead th {\n",
       "        text-align: right;\n",
       "    }\n",
       "</style>\n",
       "<table border=\"1\" class=\"dataframe\">\n",
       "  <thead>\n",
       "    <tr style=\"text-align: right;\">\n",
       "      <th></th>\n",
       "      <th>Unnamed: 0</th>\n",
       "      <th>belongs_to_collection</th>\n",
       "      <th>budget_musd</th>\n",
       "      <th>genres</th>\n",
       "      <th>id</th>\n",
       "      <th>original_language</th>\n",
       "      <th>overview</th>\n",
       "      <th>popularity</th>\n",
       "      <th>production_companies</th>\n",
       "      <th>production_countries</th>\n",
       "      <th>release_date</th>\n",
       "      <th>revenue_musd</th>\n",
       "      <th>runtime</th>\n",
       "      <th>spoken_languages</th>\n",
       "      <th>status</th>\n",
       "      <th>tagline</th>\n",
       "      <th>title</th>\n",
       "      <th>vote_average</th>\n",
       "      <th>vote_count</th>\n",
       "      <th>poster_path</th>\n",
       "    </tr>\n",
       "  </thead>\n",
       "  <tbody>\n",
       "    <tr>\n",
       "      <th>676</th>\n",
       "      <td>676</td>\n",
       "      <td>NaN</td>\n",
       "      <td>NaN</td>\n",
       "      <td>Drama|Romance</td>\n",
       "      <td>105045</td>\n",
       "      <td>de</td>\n",
       "      <td>East-Berlin, 1961, shortly after the erection ...</td>\n",
       "      <td>0.122178</td>\n",
       "      <td>Studio Babelsberg|Centre National de la Cinéma...</td>\n",
       "      <td>Germany</td>\n",
       "      <td>1995-02-16</td>\n",
       "      <td>NaN</td>\n",
       "      <td>115.0</td>\n",
       "      <td>Deutsch</td>\n",
       "      <td>Released</td>\n",
       "      <td>A love, a hope, a wall.</td>\n",
       "      <td>The Promise</td>\n",
       "      <td>5.0</td>\n",
       "      <td>1.0</td>\n",
       "      <td>&lt;img src='http://image.tmdb.org/t/p/w185//5WFI...</td>\n",
       "    </tr>\n",
       "    <tr>\n",
       "      <th>1465</th>\n",
       "      <td>1465</td>\n",
       "      <td>NaN</td>\n",
       "      <td>NaN</td>\n",
       "      <td>Drama|Romance</td>\n",
       "      <td>105045</td>\n",
       "      <td>de</td>\n",
       "      <td>East-Berlin, 1961, shortly after the erection ...</td>\n",
       "      <td>0.122178</td>\n",
       "      <td>Studio Babelsberg|Centre National de la Cinéma...</td>\n",
       "      <td>Germany</td>\n",
       "      <td>1995-02-16</td>\n",
       "      <td>NaN</td>\n",
       "      <td>115.0</td>\n",
       "      <td>Deutsch</td>\n",
       "      <td>Released</td>\n",
       "      <td>A love, a hope, a wall.</td>\n",
       "      <td>The Promise</td>\n",
       "      <td>5.0</td>\n",
       "      <td>1.0</td>\n",
       "      <td>&lt;img src='http://image.tmdb.org/t/p/w185//5WFI...</td>\n",
       "    </tr>\n",
       "    <tr>\n",
       "      <th>44821</th>\n",
       "      <td>44821</td>\n",
       "      <td>Pokémon Collection</td>\n",
       "      <td>16.000000</td>\n",
       "      <td>Adventure|Fantasy|Animation|Action|Family</td>\n",
       "      <td>10991</td>\n",
       "      <td>ja</td>\n",
       "      <td>When Molly Hale's sadness of her father's disa...</td>\n",
       "      <td>6.480376</td>\n",
       "      <td>TV Tokyo|4 Kids Entertainment|Nintendo|Pikachu...</td>\n",
       "      <td>Japan</td>\n",
       "      <td>2000-07-08</td>\n",
       "      <td>68.411275</td>\n",
       "      <td>93.0</td>\n",
       "      <td>English</td>\n",
       "      <td>Released</td>\n",
       "      <td>Pokémon: Spell of the Unknown</td>\n",
       "      <td>Pokémon: Spell of the Unknown</td>\n",
       "      <td>6.0</td>\n",
       "      <td>144.0</td>\n",
       "      <td>&lt;img src='http://image.tmdb.org/t/p/w185//g2C9...</td>\n",
       "    </tr>\n",
       "    <tr>\n",
       "      <th>4114</th>\n",
       "      <td>4114</td>\n",
       "      <td>Pokémon Collection</td>\n",
       "      <td>16.000000</td>\n",
       "      <td>Adventure|Fantasy|Animation|Action|Family</td>\n",
       "      <td>10991</td>\n",
       "      <td>ja</td>\n",
       "      <td>When Molly Hale's sadness of her father's disa...</td>\n",
       "      <td>10.264597</td>\n",
       "      <td>TV Tokyo|4 Kids Entertainment|Nintendo|Pikachu...</td>\n",
       "      <td>Japan</td>\n",
       "      <td>2000-07-08</td>\n",
       "      <td>68.411275</td>\n",
       "      <td>93.0</td>\n",
       "      <td>English</td>\n",
       "      <td>Released</td>\n",
       "      <td>Pokémon: Spell of the Unknown</td>\n",
       "      <td>Pokémon: Spell of the Unknown</td>\n",
       "      <td>6.0</td>\n",
       "      <td>143.0</td>\n",
       "      <td>&lt;img src='http://image.tmdb.org/t/p/w185//g2C9...</td>\n",
       "    </tr>\n",
       "    <tr>\n",
       "      <th>5710</th>\n",
       "      <td>5710</td>\n",
       "      <td>NaN</td>\n",
       "      <td>NaN</td>\n",
       "      <td>Drama</td>\n",
       "      <td>109962</td>\n",
       "      <td>en</td>\n",
       "      <td>Two literary women compete for 20 years: one w...</td>\n",
       "      <td>12.180836</td>\n",
       "      <td>Metro-Goldwyn-Mayer (MGM)|Jaquet</td>\n",
       "      <td>United States of America</td>\n",
       "      <td>1981-09-23</td>\n",
       "      <td>NaN</td>\n",
       "      <td>115.0</td>\n",
       "      <td>English</td>\n",
       "      <td>Released</td>\n",
       "      <td>From the very beginning, they knew they'd be f...</td>\n",
       "      <td>Rich and Famous</td>\n",
       "      <td>4.9</td>\n",
       "      <td>7.0</td>\n",
       "      <td>&lt;img src='http://image.tmdb.org/t/p/w185//9nuZ...</td>\n",
       "    </tr>\n",
       "    <tr>\n",
       "      <th>20899</th>\n",
       "      <td>20899</td>\n",
       "      <td>NaN</td>\n",
       "      <td>NaN</td>\n",
       "      <td>Drama</td>\n",
       "      <td>109962</td>\n",
       "      <td>en</td>\n",
       "      <td>Two literary women compete for 20 years: one w...</td>\n",
       "      <td>10.396878</td>\n",
       "      <td>Metro-Goldwyn-Mayer (MGM)|Jaquet</td>\n",
       "      <td>United States of America</td>\n",
       "      <td>1981-09-23</td>\n",
       "      <td>NaN</td>\n",
       "      <td>115.0</td>\n",
       "      <td>English</td>\n",
       "      <td>Released</td>\n",
       "      <td>From the very beginning, they knew they'd be f...</td>\n",
       "      <td>Rich and Famous</td>\n",
       "      <td>4.9</td>\n",
       "      <td>7.0</td>\n",
       "      <td>&lt;img src='http://image.tmdb.org/t/p/w185//9nuZ...</td>\n",
       "    </tr>\n",
       "    <tr>\n",
       "      <th>23534</th>\n",
       "      <td>23534</td>\n",
       "      <td>NaN</td>\n",
       "      <td>3.512454</td>\n",
       "      <td>Drama</td>\n",
       "      <td>110428</td>\n",
       "      <td>fr</td>\n",
       "      <td>Winter, 1915. Confined by her family to an asy...</td>\n",
       "      <td>0.110065</td>\n",
       "      <td>Canal+|Arte France Cinéma|3B Productions|C.R.R...</td>\n",
       "      <td>France</td>\n",
       "      <td>2013-03-13</td>\n",
       "      <td>0.115860</td>\n",
       "      <td>95.0</td>\n",
       "      <td>Français</td>\n",
       "      <td>Released</td>\n",
       "      <td>NaN</td>\n",
       "      <td>Camille Claudel 1915</td>\n",
       "      <td>7.0</td>\n",
       "      <td>20.0</td>\n",
       "      <td>&lt;img src='http://image.tmdb.org/t/p/w185//x0Qj...</td>\n",
       "    </tr>\n",
       "    <tr>\n",
       "      <th>4356</th>\n",
       "      <td>4356</td>\n",
       "      <td>NaN</td>\n",
       "      <td>3.512454</td>\n",
       "      <td>Drama</td>\n",
       "      <td>110428</td>\n",
       "      <td>fr</td>\n",
       "      <td>Winter, 1915. Confined by her family to an asy...</td>\n",
       "      <td>0.134014</td>\n",
       "      <td>Canal+|Arte France Cinéma|3B Productions|C.R.R...</td>\n",
       "      <td>France</td>\n",
       "      <td>2013-03-13</td>\n",
       "      <td>0.115860</td>\n",
       "      <td>95.0</td>\n",
       "      <td>Français</td>\n",
       "      <td>Released</td>\n",
       "      <td>NaN</td>\n",
       "      <td>Camille Claudel 1915</td>\n",
       "      <td>7.0</td>\n",
       "      <td>20.0</td>\n",
       "      <td>&lt;img src='http://image.tmdb.org/t/p/w185//x0Qj...</td>\n",
       "    </tr>\n",
       "    <tr>\n",
       "      <th>24844</th>\n",
       "      <td>24844</td>\n",
       "      <td>NaN</td>\n",
       "      <td>NaN</td>\n",
       "      <td>Comedy|Drama</td>\n",
       "      <td>11115</td>\n",
       "      <td>en</td>\n",
       "      <td>As an ex-gambler teaches a hot-shot college ki...</td>\n",
       "      <td>6.880365</td>\n",
       "      <td>Andertainment Group|Crescent City Pictures|Tag...</td>\n",
       "      <td>United States of America</td>\n",
       "      <td>2008-01-29</td>\n",
       "      <td>NaN</td>\n",
       "      <td>85.0</td>\n",
       "      <td>English</td>\n",
       "      <td>Released</td>\n",
       "      <td>NaN</td>\n",
       "      <td>Deal</td>\n",
       "      <td>5.2</td>\n",
       "      <td>22.0</td>\n",
       "      <td>&lt;img src='http://image.tmdb.org/t/p/w185//oqbI...</td>\n",
       "    </tr>\n",
       "    <tr>\n",
       "      <th>14012</th>\n",
       "      <td>14012</td>\n",
       "      <td>NaN</td>\n",
       "      <td>NaN</td>\n",
       "      <td>Comedy|Drama</td>\n",
       "      <td>11115</td>\n",
       "      <td>en</td>\n",
       "      <td>As an ex-gambler teaches a hot-shot college ki...</td>\n",
       "      <td>6.880365</td>\n",
       "      <td>Andertainment Group|Crescent City Pictures|Tag...</td>\n",
       "      <td>United States of America</td>\n",
       "      <td>2008-01-29</td>\n",
       "      <td>NaN</td>\n",
       "      <td>85.0</td>\n",
       "      <td>English</td>\n",
       "      <td>Released</td>\n",
       "      <td>NaN</td>\n",
       "      <td>Deal</td>\n",
       "      <td>5.2</td>\n",
       "      <td>22.0</td>\n",
       "      <td>&lt;img src='http://image.tmdb.org/t/p/w185//oqbI...</td>\n",
       "    </tr>\n",
       "  </tbody>\n",
       "</table>\n",
       "</div>"
      ],
      "text/plain": [
       "       Unnamed: 0 belongs_to_collection  budget_musd  \\\n",
       "676           676                   NaN          NaN   \n",
       "1465         1465                   NaN          NaN   \n",
       "44821       44821    Pokémon Collection    16.000000   \n",
       "4114         4114    Pokémon Collection    16.000000   \n",
       "5710         5710                   NaN          NaN   \n",
       "20899       20899                   NaN          NaN   \n",
       "23534       23534                   NaN     3.512454   \n",
       "4356         4356                   NaN     3.512454   \n",
       "24844       24844                   NaN          NaN   \n",
       "14012       14012                   NaN          NaN   \n",
       "\n",
       "                                          genres      id original_language  \\\n",
       "676                                Drama|Romance  105045                de   \n",
       "1465                               Drama|Romance  105045                de   \n",
       "44821  Adventure|Fantasy|Animation|Action|Family   10991                ja   \n",
       "4114   Adventure|Fantasy|Animation|Action|Family   10991                ja   \n",
       "5710                                       Drama  109962                en   \n",
       "20899                                      Drama  109962                en   \n",
       "23534                                      Drama  110428                fr   \n",
       "4356                                       Drama  110428                fr   \n",
       "24844                               Comedy|Drama   11115                en   \n",
       "14012                               Comedy|Drama   11115                en   \n",
       "\n",
       "                                                overview  popularity  \\\n",
       "676    East-Berlin, 1961, shortly after the erection ...    0.122178   \n",
       "1465   East-Berlin, 1961, shortly after the erection ...    0.122178   \n",
       "44821  When Molly Hale's sadness of her father's disa...    6.480376   \n",
       "4114   When Molly Hale's sadness of her father's disa...   10.264597   \n",
       "5710   Two literary women compete for 20 years: one w...   12.180836   \n",
       "20899  Two literary women compete for 20 years: one w...   10.396878   \n",
       "23534  Winter, 1915. Confined by her family to an asy...    0.110065   \n",
       "4356   Winter, 1915. Confined by her family to an asy...    0.134014   \n",
       "24844  As an ex-gambler teaches a hot-shot college ki...    6.880365   \n",
       "14012  As an ex-gambler teaches a hot-shot college ki...    6.880365   \n",
       "\n",
       "                                    production_companies  \\\n",
       "676    Studio Babelsberg|Centre National de la Cinéma...   \n",
       "1465   Studio Babelsberg|Centre National de la Cinéma...   \n",
       "44821  TV Tokyo|4 Kids Entertainment|Nintendo|Pikachu...   \n",
       "4114   TV Tokyo|4 Kids Entertainment|Nintendo|Pikachu...   \n",
       "5710                    Metro-Goldwyn-Mayer (MGM)|Jaquet   \n",
       "20899                   Metro-Goldwyn-Mayer (MGM)|Jaquet   \n",
       "23534  Canal+|Arte France Cinéma|3B Productions|C.R.R...   \n",
       "4356   Canal+|Arte France Cinéma|3B Productions|C.R.R...   \n",
       "24844  Andertainment Group|Crescent City Pictures|Tag...   \n",
       "14012  Andertainment Group|Crescent City Pictures|Tag...   \n",
       "\n",
       "           production_countries release_date  revenue_musd  runtime  \\\n",
       "676                     Germany   1995-02-16           NaN    115.0   \n",
       "1465                    Germany   1995-02-16           NaN    115.0   \n",
       "44821                     Japan   2000-07-08     68.411275     93.0   \n",
       "4114                      Japan   2000-07-08     68.411275     93.0   \n",
       "5710   United States of America   1981-09-23           NaN    115.0   \n",
       "20899  United States of America   1981-09-23           NaN    115.0   \n",
       "23534                    France   2013-03-13      0.115860     95.0   \n",
       "4356                     France   2013-03-13      0.115860     95.0   \n",
       "24844  United States of America   2008-01-29           NaN     85.0   \n",
       "14012  United States of America   2008-01-29           NaN     85.0   \n",
       "\n",
       "      spoken_languages    status  \\\n",
       "676            Deutsch  Released   \n",
       "1465           Deutsch  Released   \n",
       "44821          English  Released   \n",
       "4114           English  Released   \n",
       "5710           English  Released   \n",
       "20899          English  Released   \n",
       "23534         Français  Released   \n",
       "4356          Français  Released   \n",
       "24844          English  Released   \n",
       "14012          English  Released   \n",
       "\n",
       "                                                 tagline  \\\n",
       "676                              A love, a hope, a wall.   \n",
       "1465                             A love, a hope, a wall.   \n",
       "44821                      Pokémon: Spell of the Unknown   \n",
       "4114                       Pokémon: Spell of the Unknown   \n",
       "5710   From the very beginning, they knew they'd be f...   \n",
       "20899  From the very beginning, they knew they'd be f...   \n",
       "23534                                                NaN   \n",
       "4356                                                 NaN   \n",
       "24844                                                NaN   \n",
       "14012                                                NaN   \n",
       "\n",
       "                               title  vote_average  vote_count  \\\n",
       "676                      The Promise           5.0         1.0   \n",
       "1465                     The Promise           5.0         1.0   \n",
       "44821  Pokémon: Spell of the Unknown           6.0       144.0   \n",
       "4114   Pokémon: Spell of the Unknown           6.0       143.0   \n",
       "5710                 Rich and Famous           4.9         7.0   \n",
       "20899                Rich and Famous           4.9         7.0   \n",
       "23534           Camille Claudel 1915           7.0        20.0   \n",
       "4356            Camille Claudel 1915           7.0        20.0   \n",
       "24844                           Deal           5.2        22.0   \n",
       "14012                           Deal           5.2        22.0   \n",
       "\n",
       "                                             poster_path  \n",
       "676    <img src='http://image.tmdb.org/t/p/w185//5WFI...  \n",
       "1465   <img src='http://image.tmdb.org/t/p/w185//5WFI...  \n",
       "44821  <img src='http://image.tmdb.org/t/p/w185//g2C9...  \n",
       "4114   <img src='http://image.tmdb.org/t/p/w185//g2C9...  \n",
       "5710   <img src='http://image.tmdb.org/t/p/w185//9nuZ...  \n",
       "20899  <img src='http://image.tmdb.org/t/p/w185//9nuZ...  \n",
       "23534  <img src='http://image.tmdb.org/t/p/w185//x0Qj...  \n",
       "4356   <img src='http://image.tmdb.org/t/p/w185//x0Qj...  \n",
       "24844  <img src='http://image.tmdb.org/t/p/w185//oqbI...  \n",
       "14012  <img src='http://image.tmdb.org/t/p/w185//oqbI...  "
      ]
     },
     "execution_count": 667,
     "metadata": {},
     "output_type": "execute_result"
    }
   ],
   "source": [
    "df[df.duplicated(subset='id', keep=False)].sort_values(by='id').head(10)"
   ]
  },
  {
   "cell_type": "code",
   "execution_count": 668,
   "metadata": {},
   "outputs": [],
   "source": [
    "df.drop_duplicates(subset='id', inplace=True)"
   ]
  },
  {
   "cell_type": "code",
   "execution_count": 669,
   "metadata": {},
   "outputs": [
    {
     "data": {
      "text/plain": [
       "862       1\n",
       "40777     1\n",
       "107308    1\n",
       "16247     1\n",
       "99904     1\n",
       "         ..\n",
       "44399     1\n",
       "10138     1\n",
       "32084     1\n",
       "42191     1\n",
       "461257    1\n",
       "Name: id, Length: 45436, dtype: int64"
      ]
     },
     "execution_count": 669,
     "metadata": {},
     "output_type": "execute_result"
    }
   ],
   "source": [
    "df.id.value_counts(dropna=False)"
   ]
  },
  {
   "cell_type": "markdown",
   "metadata": {},
   "source": [
    "## Handling Missing Values & Removing Observations"
   ]
  },
  {
   "cell_type": "code",
   "execution_count": 670,
   "metadata": {},
   "outputs": [
    {
     "data": {
      "text/plain": [
       "Unnamed: 0                   0\n",
       "belongs_to_collection    40948\n",
       "budget_musd              36556\n",
       "genres                    2442\n",
       "id                           0\n",
       "original_language           11\n",
       "overview                  1102\n",
       "popularity                   6\n",
       "production_companies     11874\n",
       "production_countries      6285\n",
       "release_date                90\n",
       "revenue_musd             38038\n",
       "runtime                   1821\n",
       "spoken_languages          3956\n",
       "status                      87\n",
       "tagline                  25039\n",
       "title                        6\n",
       "vote_average              2902\n",
       "vote_count                   6\n",
       "poster_path                969\n",
       "dtype: int64"
      ]
     },
     "execution_count": 670,
     "metadata": {},
     "output_type": "execute_result"
    }
   ],
   "source": [
    "df.isna().sum()"
   ]
  },
  {
   "cell_type": "code",
   "execution_count": 671,
   "metadata": {},
   "outputs": [
    {
     "data": {
      "text/html": [
       "<div>\n",
       "<style scoped>\n",
       "    .dataframe tbody tr th:only-of-type {\n",
       "        vertical-align: middle;\n",
       "    }\n",
       "\n",
       "    .dataframe tbody tr th {\n",
       "        vertical-align: top;\n",
       "    }\n",
       "\n",
       "    .dataframe thead th {\n",
       "        text-align: right;\n",
       "    }\n",
       "</style>\n",
       "<table border=\"1\" class=\"dataframe\">\n",
       "  <thead>\n",
       "    <tr style=\"text-align: right;\">\n",
       "      <th></th>\n",
       "      <th>Unnamed: 0</th>\n",
       "      <th>belongs_to_collection</th>\n",
       "      <th>budget_musd</th>\n",
       "      <th>genres</th>\n",
       "      <th>id</th>\n",
       "      <th>original_language</th>\n",
       "      <th>overview</th>\n",
       "      <th>popularity</th>\n",
       "      <th>production_companies</th>\n",
       "      <th>production_countries</th>\n",
       "      <th>release_date</th>\n",
       "      <th>revenue_musd</th>\n",
       "      <th>runtime</th>\n",
       "      <th>spoken_languages</th>\n",
       "      <th>status</th>\n",
       "      <th>tagline</th>\n",
       "      <th>title</th>\n",
       "      <th>vote_average</th>\n",
       "      <th>vote_count</th>\n",
       "      <th>poster_path</th>\n",
       "    </tr>\n",
       "  </thead>\n",
       "  <tbody>\n",
       "    <tr>\n",
       "      <th>19729</th>\n",
       "      <td>19729</td>\n",
       "      <td>NaN</td>\n",
       "      <td>NaN</td>\n",
       "      <td>Action|Thriller|Drama</td>\n",
       "      <td>82663</td>\n",
       "      <td>en</td>\n",
       "      <td>British soldiers force a recently captured IRA...</td>\n",
       "      <td>NaN</td>\n",
       "      <td>NaN</td>\n",
       "      <td>NaN</td>\n",
       "      <td>NaT</td>\n",
       "      <td>NaN</td>\n",
       "      <td>NaN</td>\n",
       "      <td>NaN</td>\n",
       "      <td>NaN</td>\n",
       "      <td>NaN</td>\n",
       "      <td>NaN</td>\n",
       "      <td>NaN</td>\n",
       "      <td>NaN</td>\n",
       "      <td>NaN</td>\n",
       "    </tr>\n",
       "    <tr>\n",
       "      <th>19730</th>\n",
       "      <td>19730</td>\n",
       "      <td>NaN</td>\n",
       "      <td>NaN</td>\n",
       "      <td>Carousel Productions|Vision View Entertainment...</td>\n",
       "      <td>1997-08-20</td>\n",
       "      <td>104.0</td>\n",
       "      <td>Released</td>\n",
       "      <td>NaN</td>\n",
       "      <td>NaN</td>\n",
       "      <td>NaN</td>\n",
       "      <td>NaT</td>\n",
       "      <td>NaN</td>\n",
       "      <td>NaN</td>\n",
       "      <td>NaN</td>\n",
       "      <td>NaN</td>\n",
       "      <td>NaN</td>\n",
       "      <td>NaN</td>\n",
       "      <td>NaN</td>\n",
       "      <td>NaN</td>\n",
       "      <td>NaN</td>\n",
       "    </tr>\n",
       "    <tr>\n",
       "      <th>29502</th>\n",
       "      <td>29502</td>\n",
       "      <td>Mardock Scramble Collection</td>\n",
       "      <td>NaN</td>\n",
       "      <td>Animation|Science Fiction</td>\n",
       "      <td>122662</td>\n",
       "      <td>ja</td>\n",
       "      <td>Third film of the Mardock Scramble series.</td>\n",
       "      <td>NaN</td>\n",
       "      <td>NaN</td>\n",
       "      <td>NaN</td>\n",
       "      <td>NaT</td>\n",
       "      <td>NaN</td>\n",
       "      <td>NaN</td>\n",
       "      <td>NaN</td>\n",
       "      <td>NaN</td>\n",
       "      <td>NaN</td>\n",
       "      <td>NaN</td>\n",
       "      <td>NaN</td>\n",
       "      <td>NaN</td>\n",
       "      <td>NaN</td>\n",
       "    </tr>\n",
       "    <tr>\n",
       "      <th>29503</th>\n",
       "      <td>29503</td>\n",
       "      <td>NaN</td>\n",
       "      <td>NaN</td>\n",
       "      <td>Aniplex|GoHands|BROSTA TV|Mardock Scramble Pro...</td>\n",
       "      <td>2012-09-29</td>\n",
       "      <td>68.0</td>\n",
       "      <td>Released</td>\n",
       "      <td>NaN</td>\n",
       "      <td>NaN</td>\n",
       "      <td>NaN</td>\n",
       "      <td>NaT</td>\n",
       "      <td>NaN</td>\n",
       "      <td>NaN</td>\n",
       "      <td>NaN</td>\n",
       "      <td>NaN</td>\n",
       "      <td>NaN</td>\n",
       "      <td>NaN</td>\n",
       "      <td>NaN</td>\n",
       "      <td>NaN</td>\n",
       "      <td>NaN</td>\n",
       "    </tr>\n",
       "    <tr>\n",
       "      <th>35586</th>\n",
       "      <td>35586</td>\n",
       "      <td>NaN</td>\n",
       "      <td>NaN</td>\n",
       "      <td>TV Movie|Action|Horror|Science Fiction</td>\n",
       "      <td>249260</td>\n",
       "      <td>en</td>\n",
       "      <td>A group of skiers are terrorized during spring...</td>\n",
       "      <td>NaN</td>\n",
       "      <td>NaN</td>\n",
       "      <td>NaN</td>\n",
       "      <td>NaT</td>\n",
       "      <td>NaN</td>\n",
       "      <td>NaN</td>\n",
       "      <td>NaN</td>\n",
       "      <td>NaN</td>\n",
       "      <td>NaN</td>\n",
       "      <td>NaN</td>\n",
       "      <td>NaN</td>\n",
       "      <td>NaN</td>\n",
       "      <td>NaN</td>\n",
       "    </tr>\n",
       "    <tr>\n",
       "      <th>35587</th>\n",
       "      <td>35587</td>\n",
       "      <td>NaN</td>\n",
       "      <td>NaN</td>\n",
       "      <td>Odyssey Media|Pulser Productions|Rogue State|T...</td>\n",
       "      <td>2014-01-01</td>\n",
       "      <td>82.0</td>\n",
       "      <td>Released</td>\n",
       "      <td>NaN</td>\n",
       "      <td>NaN</td>\n",
       "      <td>NaN</td>\n",
       "      <td>NaT</td>\n",
       "      <td>NaN</td>\n",
       "      <td>NaN</td>\n",
       "      <td>NaN</td>\n",
       "      <td>NaN</td>\n",
       "      <td>NaN</td>\n",
       "      <td>NaN</td>\n",
       "      <td>NaN</td>\n",
       "      <td>NaN</td>\n",
       "      <td>NaN</td>\n",
       "    </tr>\n",
       "  </tbody>\n",
       "</table>\n",
       "</div>"
      ],
      "text/plain": [
       "       Unnamed: 0        belongs_to_collection  budget_musd  \\\n",
       "19729       19729                          NaN          NaN   \n",
       "19730       19730                          NaN          NaN   \n",
       "29502       29502  Mardock Scramble Collection          NaN   \n",
       "29503       29503                          NaN          NaN   \n",
       "35586       35586                          NaN          NaN   \n",
       "35587       35587                          NaN          NaN   \n",
       "\n",
       "                                                  genres          id  \\\n",
       "19729                              Action|Thriller|Drama       82663   \n",
       "19730  Carousel Productions|Vision View Entertainment...  1997-08-20   \n",
       "29502                          Animation|Science Fiction      122662   \n",
       "29503  Aniplex|GoHands|BROSTA TV|Mardock Scramble Pro...  2012-09-29   \n",
       "35586             TV Movie|Action|Horror|Science Fiction      249260   \n",
       "35587  Odyssey Media|Pulser Productions|Rogue State|T...  2014-01-01   \n",
       "\n",
       "      original_language                                           overview  \\\n",
       "19729                en  British soldiers force a recently captured IRA...   \n",
       "19730             104.0                                           Released   \n",
       "29502                ja         Third film of the Mardock Scramble series.   \n",
       "29503              68.0                                           Released   \n",
       "35586                en  A group of skiers are terrorized during spring...   \n",
       "35587              82.0                                           Released   \n",
       "\n",
       "       popularity production_companies production_countries release_date  \\\n",
       "19729         NaN                  NaN                  NaN          NaT   \n",
       "19730         NaN                  NaN                  NaN          NaT   \n",
       "29502         NaN                  NaN                  NaN          NaT   \n",
       "29503         NaN                  NaN                  NaN          NaT   \n",
       "35586         NaN                  NaN                  NaN          NaT   \n",
       "35587         NaN                  NaN                  NaN          NaT   \n",
       "\n",
       "       revenue_musd  runtime spoken_languages status tagline title  \\\n",
       "19729           NaN      NaN              NaN    NaN     NaN   NaN   \n",
       "19730           NaN      NaN              NaN    NaN     NaN   NaN   \n",
       "29502           NaN      NaN              NaN    NaN     NaN   NaN   \n",
       "29503           NaN      NaN              NaN    NaN     NaN   NaN   \n",
       "35586           NaN      NaN              NaN    NaN     NaN   NaN   \n",
       "35587           NaN      NaN              NaN    NaN     NaN   NaN   \n",
       "\n",
       "       vote_average  vote_count poster_path  \n",
       "19729           NaN         NaN         NaN  \n",
       "19730           NaN         NaN         NaN  \n",
       "29502           NaN         NaN         NaN  \n",
       "29503           NaN         NaN         NaN  \n",
       "35586           NaN         NaN         NaN  \n",
       "35587           NaN         NaN         NaN  "
      ]
     },
     "execution_count": 671,
     "metadata": {},
     "output_type": "execute_result"
    }
   ],
   "source": [
    "df[df.title.isna()]"
   ]
  },
  {
   "cell_type": "code",
   "execution_count": 672,
   "metadata": {},
   "outputs": [],
   "source": [
    "df.dropna(subset=['id', 'title'], inplace=True)"
   ]
  },
  {
   "cell_type": "code",
   "execution_count": 673,
   "metadata": {},
   "outputs": [],
   "source": [
    "df.id= df.id.astype('int')"
   ]
  },
  {
   "cell_type": "code",
   "execution_count": 674,
   "metadata": {},
   "outputs": [
    {
     "data": {
      "text/plain": [
       "0        19\n",
       "1        19\n",
       "2        18\n",
       "3        19\n",
       "4        19\n",
       "         ..\n",
       "45461    15\n",
       "45462    15\n",
       "45463    17\n",
       "45464    13\n",
       "45465    13\n",
       "Length: 45430, dtype: int64"
      ]
     },
     "execution_count": 674,
     "metadata": {},
     "output_type": "execute_result"
    }
   ],
   "source": [
    "df.notna().sum(axis=1)"
   ]
  },
  {
   "cell_type": "code",
   "execution_count": 675,
   "metadata": {},
   "outputs": [
    {
     "data": {
      "text/plain": [
       "16    12457\n",
       "17    11404\n",
       "15     5465\n",
       "18     4259\n",
       "19     3857\n",
       "14     3061\n",
       "13     1912\n",
       "20     1132\n",
       "12     1028\n",
       "11      531\n",
       "9       192\n",
       "10       74\n",
       "8        50\n",
       "7         8\n",
       "dtype: int64"
      ]
     },
     "execution_count": 675,
     "metadata": {},
     "output_type": "execute_result"
    }
   ],
   "source": [
    "df.notna().sum(axis=1).value_counts().sort_values(ascending=False)"
   ]
  },
  {
   "cell_type": "code",
   "execution_count": 676,
   "metadata": {},
   "outputs": [
    {
     "data": {
      "text/html": [
       "<div>\n",
       "<style scoped>\n",
       "    .dataframe tbody tr th:only-of-type {\n",
       "        vertical-align: middle;\n",
       "    }\n",
       "\n",
       "    .dataframe tbody tr th {\n",
       "        vertical-align: top;\n",
       "    }\n",
       "\n",
       "    .dataframe thead th {\n",
       "        text-align: right;\n",
       "    }\n",
       "</style>\n",
       "<table border=\"1\" class=\"dataframe\">\n",
       "  <thead>\n",
       "    <tr style=\"text-align: right;\">\n",
       "      <th></th>\n",
       "      <th>Unnamed: 0</th>\n",
       "      <th>belongs_to_collection</th>\n",
       "      <th>budget_musd</th>\n",
       "      <th>genres</th>\n",
       "      <th>id</th>\n",
       "      <th>original_language</th>\n",
       "      <th>overview</th>\n",
       "      <th>popularity</th>\n",
       "      <th>production_companies</th>\n",
       "      <th>production_countries</th>\n",
       "      <th>release_date</th>\n",
       "      <th>revenue_musd</th>\n",
       "      <th>runtime</th>\n",
       "      <th>spoken_languages</th>\n",
       "      <th>status</th>\n",
       "      <th>tagline</th>\n",
       "      <th>title</th>\n",
       "      <th>vote_average</th>\n",
       "      <th>vote_count</th>\n",
       "      <th>poster_path</th>\n",
       "    </tr>\n",
       "  </thead>\n",
       "  <tbody>\n",
       "    <tr>\n",
       "      <th>50</th>\n",
       "      <td>50</td>\n",
       "      <td>NaN</td>\n",
       "      <td>NaN</td>\n",
       "      <td>Action|Thriller|Drama</td>\n",
       "      <td>117164</td>\n",
       "      <td>en</td>\n",
       "      <td>Detective - turned - bodyguard Cynthia McKay (...</td>\n",
       "      <td>0.595949</td>\n",
       "      <td>NaN</td>\n",
       "      <td>NaN</td>\n",
       "      <td>1994-11-22</td>\n",
       "      <td>NaN</td>\n",
       "      <td>93.0</td>\n",
       "      <td>NaN</td>\n",
       "      <td>Released</td>\n",
       "      <td>She's no angel of mercy.</td>\n",
       "      <td>Guardian Angel</td>\n",
       "      <td>6.3</td>\n",
       "      <td>3.0</td>\n",
       "      <td>&lt;img src='http://image.tmdb.org/t/p/w185//AoRB...</td>\n",
       "    </tr>\n",
       "    <tr>\n",
       "      <th>55</th>\n",
       "      <td>55</td>\n",
       "      <td>NaN</td>\n",
       "      <td>NaN</td>\n",
       "      <td>NaN</td>\n",
       "      <td>124057</td>\n",
       "      <td>en</td>\n",
       "      <td>Set in modern times, Alex finds King Arthur's ...</td>\n",
       "      <td>0.307075</td>\n",
       "      <td>Telefilm Canada|Melenny Productions</td>\n",
       "      <td>NaN</td>\n",
       "      <td>1997-07-08</td>\n",
       "      <td>NaN</td>\n",
       "      <td>89.0</td>\n",
       "      <td>English</td>\n",
       "      <td>Released</td>\n",
       "      <td>NaN</td>\n",
       "      <td>Kids of the Round Table</td>\n",
       "      <td>3.0</td>\n",
       "      <td>1.0</td>\n",
       "      <td>&lt;img src='http://image.tmdb.org/t/p/w185//1y8K...</td>\n",
       "    </tr>\n",
       "    <tr>\n",
       "      <th>104</th>\n",
       "      <td>104</td>\n",
       "      <td>NaN</td>\n",
       "      <td>NaN</td>\n",
       "      <td>Drama|Comedy|Family</td>\n",
       "      <td>11907</td>\n",
       "      <td>de</td>\n",
       "      <td>NaN</td>\n",
       "      <td>1.015068</td>\n",
       "      <td>NaN</td>\n",
       "      <td>Germany</td>\n",
       "      <td>1994-11-07</td>\n",
       "      <td>NaN</td>\n",
       "      <td>104.0</td>\n",
       "      <td>Deutsch</td>\n",
       "      <td>Released</td>\n",
       "      <td>NaN</td>\n",
       "      <td>Nobody Loves Me</td>\n",
       "      <td>5.1</td>\n",
       "      <td>5.0</td>\n",
       "      <td>&lt;img src='http://image.tmdb.org/t/p/w185//lnfM...</td>\n",
       "    </tr>\n",
       "    <tr>\n",
       "      <th>132</th>\n",
       "      <td>132</td>\n",
       "      <td>NaN</td>\n",
       "      <td>NaN</td>\n",
       "      <td>Music|Documentary</td>\n",
       "      <td>124636</td>\n",
       "      <td>en</td>\n",
       "      <td>Within days after the release of Negativland's...</td>\n",
       "      <td>0.001838</td>\n",
       "      <td>NaN</td>\n",
       "      <td>United States of America</td>\n",
       "      <td>1995-08-01</td>\n",
       "      <td>NaN</td>\n",
       "      <td>87.0</td>\n",
       "      <td>English</td>\n",
       "      <td>Released</td>\n",
       "      <td>NaN</td>\n",
       "      <td>Sonic Outlaws</td>\n",
       "      <td>NaN</td>\n",
       "      <td>0.0</td>\n",
       "      <td>&lt;img src='http://image.tmdb.org/t/p/w185//fdJ6...</td>\n",
       "    </tr>\n",
       "    <tr>\n",
       "      <th>540</th>\n",
       "      <td>540</td>\n",
       "      <td>NaN</td>\n",
       "      <td>NaN</td>\n",
       "      <td>History|Drama|Romance</td>\n",
       "      <td>33367</td>\n",
       "      <td>en</td>\n",
       "      <td>Diane is a sophisticated trainee on the New Yo...</td>\n",
       "      <td>1.825468</td>\n",
       "      <td>NaN</td>\n",
       "      <td>NaN</td>\n",
       "      <td>1985-11-20</td>\n",
       "      <td>NaN</td>\n",
       "      <td>113.0</td>\n",
       "      <td>English</td>\n",
       "      <td>Released</td>\n",
       "      <td>NaN</td>\n",
       "      <td>Harem</td>\n",
       "      <td>4.0</td>\n",
       "      <td>4.0</td>\n",
       "      <td>&lt;img src='http://image.tmdb.org/t/p/w185//4aeP...</td>\n",
       "    </tr>\n",
       "    <tr>\n",
       "      <th>...</th>\n",
       "      <td>...</td>\n",
       "      <td>...</td>\n",
       "      <td>...</td>\n",
       "      <td>...</td>\n",
       "      <td>...</td>\n",
       "      <td>...</td>\n",
       "      <td>...</td>\n",
       "      <td>...</td>\n",
       "      <td>...</td>\n",
       "      <td>...</td>\n",
       "      <td>...</td>\n",
       "      <td>...</td>\n",
       "      <td>...</td>\n",
       "      <td>...</td>\n",
       "      <td>...</td>\n",
       "      <td>...</td>\n",
       "      <td>...</td>\n",
       "      <td>...</td>\n",
       "      <td>...</td>\n",
       "      <td>...</td>\n",
       "    </tr>\n",
       "    <tr>\n",
       "      <th>45430</th>\n",
       "      <td>45430</td>\n",
       "      <td>NaN</td>\n",
       "      <td>NaN</td>\n",
       "      <td>Thriller|Science Fiction</td>\n",
       "      <td>222872</td>\n",
       "      <td>en</td>\n",
       "      <td>Sci-fi thriller directed by Fred Gallo.</td>\n",
       "      <td>1.188052</td>\n",
       "      <td>The Pacific Trust</td>\n",
       "      <td>United States of America</td>\n",
       "      <td>1996-01-01</td>\n",
       "      <td>NaN</td>\n",
       "      <td>NaN</td>\n",
       "      <td>NaN</td>\n",
       "      <td>Released</td>\n",
       "      <td>NaN</td>\n",
       "      <td>Starquest II</td>\n",
       "      <td>2.0</td>\n",
       "      <td>1.0</td>\n",
       "      <td>&lt;img src='http://image.tmdb.org/t/p/w185//kYRu...</td>\n",
       "    </tr>\n",
       "    <tr>\n",
       "      <th>45447</th>\n",
       "      <td>45447</td>\n",
       "      <td>NaN</td>\n",
       "      <td>NaN</td>\n",
       "      <td>NaN</td>\n",
       "      <td>44324</td>\n",
       "      <td>fr</td>\n",
       "      <td>The background of this picture represents a sc...</td>\n",
       "      <td>0.213973</td>\n",
       "      <td>Star Film Company</td>\n",
       "      <td>France</td>\n",
       "      <td>1904-03-05</td>\n",
       "      <td>NaN</td>\n",
       "      <td>3.0</td>\n",
       "      <td>NaN</td>\n",
       "      <td>Released</td>\n",
       "      <td>NaN</td>\n",
       "      <td>The Untameable Whiskers</td>\n",
       "      <td>6.0</td>\n",
       "      <td>6.0</td>\n",
       "      <td>&lt;img src='http://image.tmdb.org/t/p/w185//r3bn...</td>\n",
       "    </tr>\n",
       "    <tr>\n",
       "      <th>45448</th>\n",
       "      <td>45448</td>\n",
       "      <td>NaN</td>\n",
       "      <td>NaN</td>\n",
       "      <td>NaN</td>\n",
       "      <td>122036</td>\n",
       "      <td>fr</td>\n",
       "      <td>This shows a prince entering upon the stage of...</td>\n",
       "      <td>0.071782</td>\n",
       "      <td>Star Film Company</td>\n",
       "      <td>France</td>\n",
       "      <td>1904-01-01</td>\n",
       "      <td>NaN</td>\n",
       "      <td>2.0</td>\n",
       "      <td>NaN</td>\n",
       "      <td>Released</td>\n",
       "      <td>NaN</td>\n",
       "      <td>The Imperceptable Transmutations</td>\n",
       "      <td>5.0</td>\n",
       "      <td>2.0</td>\n",
       "      <td>&lt;img src='http://image.tmdb.org/t/p/w185//ifWv...</td>\n",
       "    </tr>\n",
       "    <tr>\n",
       "      <th>45452</th>\n",
       "      <td>45452</td>\n",
       "      <td>NaN</td>\n",
       "      <td>NaN</td>\n",
       "      <td>Documentary</td>\n",
       "      <td>276895</td>\n",
       "      <td>en</td>\n",
       "      <td>Deep Hearts is a film about the Bororo Fulani,...</td>\n",
       "      <td>0.011025</td>\n",
       "      <td>NaN</td>\n",
       "      <td>United States of America</td>\n",
       "      <td>1981-01-01</td>\n",
       "      <td>NaN</td>\n",
       "      <td>58.0</td>\n",
       "      <td>Fulfulde|English</td>\n",
       "      <td>Released</td>\n",
       "      <td>NaN</td>\n",
       "      <td>Deep Hearts</td>\n",
       "      <td>NaN</td>\n",
       "      <td>0.0</td>\n",
       "      <td>&lt;img src='http://image.tmdb.org/t/p/w185//8jI4...</td>\n",
       "    </tr>\n",
       "    <tr>\n",
       "      <th>45457</th>\n",
       "      <td>45457</td>\n",
       "      <td>NaN</td>\n",
       "      <td>NaN</td>\n",
       "      <td>Mystery|Horror</td>\n",
       "      <td>390959</td>\n",
       "      <td>en</td>\n",
       "      <td>In this true-crime documentary, we delve into ...</td>\n",
       "      <td>0.076061</td>\n",
       "      <td>NaN</td>\n",
       "      <td>NaN</td>\n",
       "      <td>2000-10-22</td>\n",
       "      <td>NaN</td>\n",
       "      <td>45.0</td>\n",
       "      <td>English</td>\n",
       "      <td>Released</td>\n",
       "      <td>NaN</td>\n",
       "      <td>Shadow of the Blair Witch</td>\n",
       "      <td>7.0</td>\n",
       "      <td>2.0</td>\n",
       "      <td>&lt;img src='http://image.tmdb.org/t/p/w185//q75t...</td>\n",
       "    </tr>\n",
       "  </tbody>\n",
       "</table>\n",
       "<p>3061 rows × 20 columns</p>\n",
       "</div>"
      ],
      "text/plain": [
       "       Unnamed: 0 belongs_to_collection  budget_musd  \\\n",
       "50             50                   NaN          NaN   \n",
       "55             55                   NaN          NaN   \n",
       "104           104                   NaN          NaN   \n",
       "132           132                   NaN          NaN   \n",
       "540           540                   NaN          NaN   \n",
       "...           ...                   ...          ...   \n",
       "45430       45430                   NaN          NaN   \n",
       "45447       45447                   NaN          NaN   \n",
       "45448       45448                   NaN          NaN   \n",
       "45452       45452                   NaN          NaN   \n",
       "45457       45457                   NaN          NaN   \n",
       "\n",
       "                         genres      id original_language  \\\n",
       "50        Action|Thriller|Drama  117164                en   \n",
       "55                          NaN  124057                en   \n",
       "104         Drama|Comedy|Family   11907                de   \n",
       "132           Music|Documentary  124636                en   \n",
       "540       History|Drama|Romance   33367                en   \n",
       "...                         ...     ...               ...   \n",
       "45430  Thriller|Science Fiction  222872                en   \n",
       "45447                       NaN   44324                fr   \n",
       "45448                       NaN  122036                fr   \n",
       "45452               Documentary  276895                en   \n",
       "45457            Mystery|Horror  390959                en   \n",
       "\n",
       "                                                overview  popularity  \\\n",
       "50     Detective - turned - bodyguard Cynthia McKay (...    0.595949   \n",
       "55     Set in modern times, Alex finds King Arthur's ...    0.307075   \n",
       "104                                                  NaN    1.015068   \n",
       "132    Within days after the release of Negativland's...    0.001838   \n",
       "540    Diane is a sophisticated trainee on the New Yo...    1.825468   \n",
       "...                                                  ...         ...   \n",
       "45430            Sci-fi thriller directed by Fred Gallo.    1.188052   \n",
       "45447  The background of this picture represents a sc...    0.213973   \n",
       "45448  This shows a prince entering upon the stage of...    0.071782   \n",
       "45452  Deep Hearts is a film about the Bororo Fulani,...    0.011025   \n",
       "45457  In this true-crime documentary, we delve into ...    0.076061   \n",
       "\n",
       "                      production_companies      production_countries  \\\n",
       "50                                     NaN                       NaN   \n",
       "55     Telefilm Canada|Melenny Productions                       NaN   \n",
       "104                                    NaN                   Germany   \n",
       "132                                    NaN  United States of America   \n",
       "540                                    NaN                       NaN   \n",
       "...                                    ...                       ...   \n",
       "45430                    The Pacific Trust  United States of America   \n",
       "45447                    Star Film Company                    France   \n",
       "45448                    Star Film Company                    France   \n",
       "45452                                  NaN  United States of America   \n",
       "45457                                  NaN                       NaN   \n",
       "\n",
       "      release_date  revenue_musd  runtime  spoken_languages    status  \\\n",
       "50      1994-11-22           NaN     93.0               NaN  Released   \n",
       "55      1997-07-08           NaN     89.0           English  Released   \n",
       "104     1994-11-07           NaN    104.0           Deutsch  Released   \n",
       "132     1995-08-01           NaN     87.0           English  Released   \n",
       "540     1985-11-20           NaN    113.0           English  Released   \n",
       "...            ...           ...      ...               ...       ...   \n",
       "45430   1996-01-01           NaN      NaN               NaN  Released   \n",
       "45447   1904-03-05           NaN      3.0               NaN  Released   \n",
       "45448   1904-01-01           NaN      2.0               NaN  Released   \n",
       "45452   1981-01-01           NaN     58.0  Fulfulde|English  Released   \n",
       "45457   2000-10-22           NaN     45.0           English  Released   \n",
       "\n",
       "                        tagline                             title  \\\n",
       "50     She's no angel of mercy.                    Guardian Angel   \n",
       "55                          NaN           Kids of the Round Table   \n",
       "104                         NaN                   Nobody Loves Me   \n",
       "132                         NaN                     Sonic Outlaws   \n",
       "540                         NaN                             Harem   \n",
       "...                         ...                               ...   \n",
       "45430                       NaN                      Starquest II   \n",
       "45447                       NaN           The Untameable Whiskers   \n",
       "45448                       NaN  The Imperceptable Transmutations   \n",
       "45452                       NaN                       Deep Hearts   \n",
       "45457                       NaN         Shadow of the Blair Witch   \n",
       "\n",
       "       vote_average  vote_count  \\\n",
       "50              6.3         3.0   \n",
       "55              3.0         1.0   \n",
       "104             5.1         5.0   \n",
       "132             NaN         0.0   \n",
       "540             4.0         4.0   \n",
       "...             ...         ...   \n",
       "45430           2.0         1.0   \n",
       "45447           6.0         6.0   \n",
       "45448           5.0         2.0   \n",
       "45452           NaN         0.0   \n",
       "45457           7.0         2.0   \n",
       "\n",
       "                                             poster_path  \n",
       "50     <img src='http://image.tmdb.org/t/p/w185//AoRB...  \n",
       "55     <img src='http://image.tmdb.org/t/p/w185//1y8K...  \n",
       "104    <img src='http://image.tmdb.org/t/p/w185//lnfM...  \n",
       "132    <img src='http://image.tmdb.org/t/p/w185//fdJ6...  \n",
       "540    <img src='http://image.tmdb.org/t/p/w185//4aeP...  \n",
       "...                                                  ...  \n",
       "45430  <img src='http://image.tmdb.org/t/p/w185//kYRu...  \n",
       "45447  <img src='http://image.tmdb.org/t/p/w185//r3bn...  \n",
       "45448  <img src='http://image.tmdb.org/t/p/w185//ifWv...  \n",
       "45452  <img src='http://image.tmdb.org/t/p/w185//8jI4...  \n",
       "45457  <img src='http://image.tmdb.org/t/p/w185//q75t...  \n",
       "\n",
       "[3061 rows x 20 columns]"
      ]
     },
     "execution_count": 676,
     "metadata": {},
     "output_type": "execute_result"
    }
   ],
   "source": [
    "df.loc[df.isna().sum(axis=1) == 6]"
   ]
  },
  {
   "cell_type": "code",
   "execution_count": 677,
   "metadata": {},
   "outputs": [],
   "source": [
    "df.dropna(thresh=10, inplace=True)"
   ]
  },
  {
   "cell_type": "markdown",
   "metadata": {},
   "source": [
    "## Final steps"
   ]
  },
  {
   "cell_type": "code",
   "execution_count": 678,
   "metadata": {},
   "outputs": [
    {
     "data": {
      "text/plain": [
       "Released           44753\n",
       "Rumored              226\n",
       "Post Production       98\n",
       "NaN                   66\n",
       "In Production         20\n",
       "Planned               15\n",
       "Canceled               2\n",
       "Name: status, dtype: int64"
      ]
     },
     "execution_count": 678,
     "metadata": {},
     "output_type": "execute_result"
    }
   ],
   "source": [
    "df.status.value_counts(dropna=False)"
   ]
  },
  {
   "cell_type": "code",
   "execution_count": 679,
   "metadata": {},
   "outputs": [],
   "source": [
    "df = df[df.status == 'Released'].copy()"
   ]
  },
  {
   "cell_type": "code",
   "execution_count": 680,
   "metadata": {},
   "outputs": [
    {
     "data": {
      "text/plain": [
       "Released    44753\n",
       "Name: status, dtype: int64"
      ]
     },
     "execution_count": 680,
     "metadata": {},
     "output_type": "execute_result"
    }
   ],
   "source": [
    "df.status.value_counts(dropna=False)"
   ]
  },
  {
   "cell_type": "code",
   "execution_count": 681,
   "metadata": {},
   "outputs": [],
   "source": [
    "df.drop(columns = 'status', inplace=True)"
   ]
  },
  {
   "cell_type": "code",
   "execution_count": 682,
   "metadata": {},
   "outputs": [],
   "source": [
    "col = [\"id\", \"title\", \"tagline\", \"release_date\", \"genres\", \"belongs_to_collection\", \n",
    "\"original_language\", \"budget_musd\", \"revenue_musd\", \"production_companies\",\n",
    "\"production_countries\", \"vote_count\", \"vote_average\", \"popularity\", \"runtime\",\n",
    "\"overview\", \"spoken_languages\", \"poster_path\"]"
   ]
  },
  {
   "cell_type": "code",
   "execution_count": 683,
   "metadata": {},
   "outputs": [],
   "source": [
    "df = df.loc[:, col]"
   ]
  },
  {
   "cell_type": "code",
   "execution_count": 684,
   "metadata": {},
   "outputs": [],
   "source": [
    "df.reset_index(drop=True, inplace=True)"
   ]
  },
  {
   "cell_type": "code",
   "execution_count": 685,
   "metadata": {},
   "outputs": [
    {
     "name": "stdout",
     "output_type": "stream",
     "text": [
      "<class 'pandas.core.frame.DataFrame'>\n",
      "RangeIndex: 44753 entries, 0 to 44752\n",
      "Data columns (total 18 columns):\n",
      " #   Column                 Non-Null Count  Dtype         \n",
      "---  ------                 --------------  -----         \n",
      " 0   id                     44753 non-null  int64         \n",
      " 1   title                  44753 non-null  object        \n",
      " 2   tagline                20285 non-null  object        \n",
      " 3   release_date           44712 non-null  datetime64[ns]\n",
      " 4   genres                 42591 non-null  object        \n",
      " 5   belongs_to_collection  4463 non-null   object        \n",
      " 6   original_language      44743 non-null  object        \n",
      " 7   budget_musd            8854 non-null   float64       \n",
      " 8   revenue_musd           7385 non-null   float64       \n",
      " 9   production_companies   33356 non-null  object        \n",
      " 10  production_countries   38838 non-null  object        \n",
      " 11  vote_count             44753 non-null  float64       \n",
      " 12  vote_average           42097 non-null  float64       \n",
      " 13  popularity             44753 non-null  float64       \n",
      " 14  runtime                43223 non-null  float64       \n",
      " 15  overview               43795 non-null  object        \n",
      " 16  spoken_languages       41097 non-null  object        \n",
      " 17  poster_path            44467 non-null  object        \n",
      "dtypes: datetime64[ns](1), float64(6), int64(1), object(10)\n",
      "memory usage: 6.1+ MB\n"
     ]
    }
   ],
   "source": [
    "df.info()"
   ]
  },
  {
   "cell_type": "code",
   "execution_count": 686,
   "metadata": {},
   "outputs": [
    {
     "data": {
      "text/html": [
       "<div>\n",
       "<style scoped>\n",
       "    .dataframe tbody tr th:only-of-type {\n",
       "        vertical-align: middle;\n",
       "    }\n",
       "\n",
       "    .dataframe tbody tr th {\n",
       "        vertical-align: top;\n",
       "    }\n",
       "\n",
       "    .dataframe thead th {\n",
       "        text-align: right;\n",
       "    }\n",
       "</style>\n",
       "<table border=\"1\" class=\"dataframe\">\n",
       "  <thead>\n",
       "    <tr style=\"text-align: right;\">\n",
       "      <th></th>\n",
       "      <th>id</th>\n",
       "      <th>title</th>\n",
       "      <th>tagline</th>\n",
       "      <th>release_date</th>\n",
       "      <th>genres</th>\n",
       "      <th>belongs_to_collection</th>\n",
       "      <th>original_language</th>\n",
       "      <th>budget_musd</th>\n",
       "      <th>revenue_musd</th>\n",
       "      <th>production_companies</th>\n",
       "      <th>production_countries</th>\n",
       "      <th>vote_count</th>\n",
       "      <th>vote_average</th>\n",
       "      <th>popularity</th>\n",
       "      <th>runtime</th>\n",
       "      <th>overview</th>\n",
       "      <th>spoken_languages</th>\n",
       "      <th>poster_path</th>\n",
       "    </tr>\n",
       "  </thead>\n",
       "  <tbody>\n",
       "    <tr>\n",
       "      <th>0</th>\n",
       "      <td>862</td>\n",
       "      <td>Toy Story</td>\n",
       "      <td>NaN</td>\n",
       "      <td>1995-10-30</td>\n",
       "      <td>Animation|Comedy|Family</td>\n",
       "      <td>Toy Story Collection</td>\n",
       "      <td>en</td>\n",
       "      <td>30.0</td>\n",
       "      <td>373.554033</td>\n",
       "      <td>Pixar Animation Studios</td>\n",
       "      <td>United States of America</td>\n",
       "      <td>5415.0</td>\n",
       "      <td>7.7</td>\n",
       "      <td>21.946943</td>\n",
       "      <td>81.0</td>\n",
       "      <td>Led by Woody, Andy's toys live happily in his ...</td>\n",
       "      <td>English</td>\n",
       "      <td>&lt;img src='http://image.tmdb.org/t/p/w185//uXDf...</td>\n",
       "    </tr>\n",
       "    <tr>\n",
       "      <th>1</th>\n",
       "      <td>8844</td>\n",
       "      <td>Jumanji</td>\n",
       "      <td>Roll the dice and unleash the excitement!</td>\n",
       "      <td>1995-12-15</td>\n",
       "      <td>Adventure|Fantasy|Family</td>\n",
       "      <td>NaN</td>\n",
       "      <td>en</td>\n",
       "      <td>65.0</td>\n",
       "      <td>262.797249</td>\n",
       "      <td>TriStar Pictures|Teitler Film|Interscope Commu...</td>\n",
       "      <td>United States of America</td>\n",
       "      <td>2413.0</td>\n",
       "      <td>6.9</td>\n",
       "      <td>17.015539</td>\n",
       "      <td>104.0</td>\n",
       "      <td>When siblings Judy and Peter discover an encha...</td>\n",
       "      <td>English|Français</td>\n",
       "      <td>&lt;img src='http://image.tmdb.org/t/p/w185//vgpX...</td>\n",
       "    </tr>\n",
       "    <tr>\n",
       "      <th>2</th>\n",
       "      <td>15602</td>\n",
       "      <td>Grumpier Old Men</td>\n",
       "      <td>Still Yelling. Still Fighting. Still Ready for...</td>\n",
       "      <td>1995-12-22</td>\n",
       "      <td>Romance|Comedy</td>\n",
       "      <td>Grumpy Old Men Collection</td>\n",
       "      <td>en</td>\n",
       "      <td>NaN</td>\n",
       "      <td>NaN</td>\n",
       "      <td>Warner Bros.|Lancaster Gate</td>\n",
       "      <td>United States of America</td>\n",
       "      <td>92.0</td>\n",
       "      <td>6.5</td>\n",
       "      <td>11.712900</td>\n",
       "      <td>101.0</td>\n",
       "      <td>A family wedding reignites the ancient feud be...</td>\n",
       "      <td>English</td>\n",
       "      <td>&lt;img src='http://image.tmdb.org/t/p/w185//1FSX...</td>\n",
       "    </tr>\n",
       "    <tr>\n",
       "      <th>3</th>\n",
       "      <td>31357</td>\n",
       "      <td>Waiting to Exhale</td>\n",
       "      <td>Friends are the people who let you be yourself...</td>\n",
       "      <td>1995-12-22</td>\n",
       "      <td>Comedy|Drama|Romance</td>\n",
       "      <td>NaN</td>\n",
       "      <td>en</td>\n",
       "      <td>16.0</td>\n",
       "      <td>81.452156</td>\n",
       "      <td>Twentieth Century Fox Film Corporation</td>\n",
       "      <td>United States of America</td>\n",
       "      <td>34.0</td>\n",
       "      <td>6.1</td>\n",
       "      <td>3.859495</td>\n",
       "      <td>127.0</td>\n",
       "      <td>Cheated on, mistreated and stepped on, the wom...</td>\n",
       "      <td>English</td>\n",
       "      <td>&lt;img src='http://image.tmdb.org/t/p/w185//4wjG...</td>\n",
       "    </tr>\n",
       "    <tr>\n",
       "      <th>4</th>\n",
       "      <td>11862</td>\n",
       "      <td>Father of the Bride Part II</td>\n",
       "      <td>Just When His World Is Back To Normal... He's ...</td>\n",
       "      <td>1995-02-10</td>\n",
       "      <td>Comedy</td>\n",
       "      <td>Father of the Bride Collection</td>\n",
       "      <td>en</td>\n",
       "      <td>NaN</td>\n",
       "      <td>76.578911</td>\n",
       "      <td>Sandollar Productions|Touchstone Pictures</td>\n",
       "      <td>United States of America</td>\n",
       "      <td>173.0</td>\n",
       "      <td>5.7</td>\n",
       "      <td>8.387519</td>\n",
       "      <td>106.0</td>\n",
       "      <td>Just when George Banks has recovered from his ...</td>\n",
       "      <td>English</td>\n",
       "      <td>&lt;img src='http://image.tmdb.org/t/p/w185//lf9R...</td>\n",
       "    </tr>\n",
       "    <tr>\n",
       "      <th>...</th>\n",
       "      <td>...</td>\n",
       "      <td>...</td>\n",
       "      <td>...</td>\n",
       "      <td>...</td>\n",
       "      <td>...</td>\n",
       "      <td>...</td>\n",
       "      <td>...</td>\n",
       "      <td>...</td>\n",
       "      <td>...</td>\n",
       "      <td>...</td>\n",
       "      <td>...</td>\n",
       "      <td>...</td>\n",
       "      <td>...</td>\n",
       "      <td>...</td>\n",
       "      <td>...</td>\n",
       "      <td>...</td>\n",
       "      <td>...</td>\n",
       "      <td>...</td>\n",
       "    </tr>\n",
       "    <tr>\n",
       "      <th>44748</th>\n",
       "      <td>439050</td>\n",
       "      <td>Subdue</td>\n",
       "      <td>Rising and falling between a man and woman</td>\n",
       "      <td>NaT</td>\n",
       "      <td>Drama|Family</td>\n",
       "      <td>NaN</td>\n",
       "      <td>fa</td>\n",
       "      <td>NaN</td>\n",
       "      <td>NaN</td>\n",
       "      <td>NaN</td>\n",
       "      <td>Iran</td>\n",
       "      <td>1.0</td>\n",
       "      <td>4.0</td>\n",
       "      <td>0.072051</td>\n",
       "      <td>90.0</td>\n",
       "      <td>Rising and falling between a man and woman.</td>\n",
       "      <td>فارسی</td>\n",
       "      <td>&lt;img src='http://image.tmdb.org/t/p/w185//pfC8...</td>\n",
       "    </tr>\n",
       "    <tr>\n",
       "      <th>44749</th>\n",
       "      <td>111109</td>\n",
       "      <td>Century of Birthing</td>\n",
       "      <td>NaN</td>\n",
       "      <td>2011-11-17</td>\n",
       "      <td>Drama</td>\n",
       "      <td>NaN</td>\n",
       "      <td>tl</td>\n",
       "      <td>NaN</td>\n",
       "      <td>NaN</td>\n",
       "      <td>Sine Olivia</td>\n",
       "      <td>Philippines</td>\n",
       "      <td>3.0</td>\n",
       "      <td>9.0</td>\n",
       "      <td>0.178241</td>\n",
       "      <td>360.0</td>\n",
       "      <td>An artist struggles to finish his work while a...</td>\n",
       "      <td>NaN</td>\n",
       "      <td>&lt;img src='http://image.tmdb.org/t/p/w185//xZkm...</td>\n",
       "    </tr>\n",
       "    <tr>\n",
       "      <th>44750</th>\n",
       "      <td>67758</td>\n",
       "      <td>Betrayal</td>\n",
       "      <td>A deadly game of wits.</td>\n",
       "      <td>2003-08-01</td>\n",
       "      <td>Action|Drama|Thriller</td>\n",
       "      <td>NaN</td>\n",
       "      <td>en</td>\n",
       "      <td>NaN</td>\n",
       "      <td>NaN</td>\n",
       "      <td>American World Pictures</td>\n",
       "      <td>United States of America</td>\n",
       "      <td>6.0</td>\n",
       "      <td>3.8</td>\n",
       "      <td>0.903007</td>\n",
       "      <td>90.0</td>\n",
       "      <td>When one of her hits goes wrong, a professiona...</td>\n",
       "      <td>English</td>\n",
       "      <td>&lt;img src='http://image.tmdb.org/t/p/w185//eGga...</td>\n",
       "    </tr>\n",
       "    <tr>\n",
       "      <th>44751</th>\n",
       "      <td>227506</td>\n",
       "      <td>Satan Triumphant</td>\n",
       "      <td>NaN</td>\n",
       "      <td>1917-10-21</td>\n",
       "      <td>NaN</td>\n",
       "      <td>NaN</td>\n",
       "      <td>en</td>\n",
       "      <td>NaN</td>\n",
       "      <td>NaN</td>\n",
       "      <td>Yermoliev</td>\n",
       "      <td>Russia</td>\n",
       "      <td>0.0</td>\n",
       "      <td>NaN</td>\n",
       "      <td>0.003503</td>\n",
       "      <td>87.0</td>\n",
       "      <td>In a small town live two brothers, one a minis...</td>\n",
       "      <td>NaN</td>\n",
       "      <td>&lt;img src='http://image.tmdb.org/t/p/w185//aorB...</td>\n",
       "    </tr>\n",
       "    <tr>\n",
       "      <th>44752</th>\n",
       "      <td>461257</td>\n",
       "      <td>Queerama</td>\n",
       "      <td>NaN</td>\n",
       "      <td>2017-06-09</td>\n",
       "      <td>NaN</td>\n",
       "      <td>NaN</td>\n",
       "      <td>en</td>\n",
       "      <td>NaN</td>\n",
       "      <td>NaN</td>\n",
       "      <td>NaN</td>\n",
       "      <td>United Kingdom</td>\n",
       "      <td>0.0</td>\n",
       "      <td>NaN</td>\n",
       "      <td>0.163015</td>\n",
       "      <td>75.0</td>\n",
       "      <td>50 years after decriminalisation of homosexual...</td>\n",
       "      <td>English</td>\n",
       "      <td>&lt;img src='http://image.tmdb.org/t/p/w185//oxFE...</td>\n",
       "    </tr>\n",
       "  </tbody>\n",
       "</table>\n",
       "<p>44753 rows × 18 columns</p>\n",
       "</div>"
      ],
      "text/plain": [
       "           id                        title  \\\n",
       "0         862                    Toy Story   \n",
       "1        8844                      Jumanji   \n",
       "2       15602             Grumpier Old Men   \n",
       "3       31357            Waiting to Exhale   \n",
       "4       11862  Father of the Bride Part II   \n",
       "...       ...                          ...   \n",
       "44748  439050                       Subdue   \n",
       "44749  111109          Century of Birthing   \n",
       "44750   67758                     Betrayal   \n",
       "44751  227506             Satan Triumphant   \n",
       "44752  461257                     Queerama   \n",
       "\n",
       "                                                 tagline release_date  \\\n",
       "0                                                    NaN   1995-10-30   \n",
       "1              Roll the dice and unleash the excitement!   1995-12-15   \n",
       "2      Still Yelling. Still Fighting. Still Ready for...   1995-12-22   \n",
       "3      Friends are the people who let you be yourself...   1995-12-22   \n",
       "4      Just When His World Is Back To Normal... He's ...   1995-02-10   \n",
       "...                                                  ...          ...   \n",
       "44748         Rising and falling between a man and woman          NaT   \n",
       "44749                                                NaN   2011-11-17   \n",
       "44750                             A deadly game of wits.   2003-08-01   \n",
       "44751                                                NaN   1917-10-21   \n",
       "44752                                                NaN   2017-06-09   \n",
       "\n",
       "                         genres           belongs_to_collection  \\\n",
       "0       Animation|Comedy|Family            Toy Story Collection   \n",
       "1      Adventure|Fantasy|Family                             NaN   \n",
       "2                Romance|Comedy       Grumpy Old Men Collection   \n",
       "3          Comedy|Drama|Romance                             NaN   \n",
       "4                        Comedy  Father of the Bride Collection   \n",
       "...                         ...                             ...   \n",
       "44748              Drama|Family                             NaN   \n",
       "44749                     Drama                             NaN   \n",
       "44750     Action|Drama|Thriller                             NaN   \n",
       "44751                       NaN                             NaN   \n",
       "44752                       NaN                             NaN   \n",
       "\n",
       "      original_language  budget_musd  revenue_musd  \\\n",
       "0                    en         30.0    373.554033   \n",
       "1                    en         65.0    262.797249   \n",
       "2                    en          NaN           NaN   \n",
       "3                    en         16.0     81.452156   \n",
       "4                    en          NaN     76.578911   \n",
       "...                 ...          ...           ...   \n",
       "44748                fa          NaN           NaN   \n",
       "44749                tl          NaN           NaN   \n",
       "44750                en          NaN           NaN   \n",
       "44751                en          NaN           NaN   \n",
       "44752                en          NaN           NaN   \n",
       "\n",
       "                                    production_companies  \\\n",
       "0                                Pixar Animation Studios   \n",
       "1      TriStar Pictures|Teitler Film|Interscope Commu...   \n",
       "2                            Warner Bros.|Lancaster Gate   \n",
       "3                 Twentieth Century Fox Film Corporation   \n",
       "4              Sandollar Productions|Touchstone Pictures   \n",
       "...                                                  ...   \n",
       "44748                                                NaN   \n",
       "44749                                        Sine Olivia   \n",
       "44750                            American World Pictures   \n",
       "44751                                          Yermoliev   \n",
       "44752                                                NaN   \n",
       "\n",
       "           production_countries  vote_count  vote_average  popularity  \\\n",
       "0      United States of America      5415.0           7.7   21.946943   \n",
       "1      United States of America      2413.0           6.9   17.015539   \n",
       "2      United States of America        92.0           6.5   11.712900   \n",
       "3      United States of America        34.0           6.1    3.859495   \n",
       "4      United States of America       173.0           5.7    8.387519   \n",
       "...                         ...         ...           ...         ...   \n",
       "44748                      Iran         1.0           4.0    0.072051   \n",
       "44749               Philippines         3.0           9.0    0.178241   \n",
       "44750  United States of America         6.0           3.8    0.903007   \n",
       "44751                    Russia         0.0           NaN    0.003503   \n",
       "44752            United Kingdom         0.0           NaN    0.163015   \n",
       "\n",
       "       runtime                                           overview  \\\n",
       "0         81.0  Led by Woody, Andy's toys live happily in his ...   \n",
       "1        104.0  When siblings Judy and Peter discover an encha...   \n",
       "2        101.0  A family wedding reignites the ancient feud be...   \n",
       "3        127.0  Cheated on, mistreated and stepped on, the wom...   \n",
       "4        106.0  Just when George Banks has recovered from his ...   \n",
       "...        ...                                                ...   \n",
       "44748     90.0        Rising and falling between a man and woman.   \n",
       "44749    360.0  An artist struggles to finish his work while a...   \n",
       "44750     90.0  When one of her hits goes wrong, a professiona...   \n",
       "44751     87.0  In a small town live two brothers, one a minis...   \n",
       "44752     75.0  50 years after decriminalisation of homosexual...   \n",
       "\n",
       "       spoken_languages                                        poster_path  \n",
       "0               English  <img src='http://image.tmdb.org/t/p/w185//uXDf...  \n",
       "1      English|Français  <img src='http://image.tmdb.org/t/p/w185//vgpX...  \n",
       "2               English  <img src='http://image.tmdb.org/t/p/w185//1FSX...  \n",
       "3               English  <img src='http://image.tmdb.org/t/p/w185//4wjG...  \n",
       "4               English  <img src='http://image.tmdb.org/t/p/w185//lf9R...  \n",
       "...                 ...                                                ...  \n",
       "44748             فارسی  <img src='http://image.tmdb.org/t/p/w185//pfC8...  \n",
       "44749               NaN  <img src='http://image.tmdb.org/t/p/w185//xZkm...  \n",
       "44750           English  <img src='http://image.tmdb.org/t/p/w185//eGga...  \n",
       "44751               NaN  <img src='http://image.tmdb.org/t/p/w185//aorB...  \n",
       "44752           English  <img src='http://image.tmdb.org/t/p/w185//oxFE...  \n",
       "\n",
       "[44753 rows x 18 columns]"
      ]
     },
     "execution_count": 686,
     "metadata": {},
     "output_type": "execute_result"
    }
   ],
   "source": [
    "df"
   ]
  },
  {
   "cell_type": "markdown",
   "metadata": {},
   "source": [
    "df.poster_path[0]"
   ]
  },
  {
   "cell_type": "markdown",
   "metadata": {},
   "source": [
    "base_poster_url = 'http://image.tmdb.org/t/p/w185/'\n",
    "df.poster_path = \"<img src='\" + base_poster_url + df.poster_path + \"' style='height:100px;'>\""
   ]
  },
  {
   "cell_type": "code",
   "execution_count": 687,
   "metadata": {},
   "outputs": [],
   "source": [
    "df.to_csv('movies_clean.csv', index=False)"
   ]
  },
  {
   "cell_type": "code",
   "execution_count": 688,
   "metadata": {},
   "outputs": [
    {
     "name": "stdout",
     "output_type": "stream",
     "text": [
      "<class 'pandas.core.frame.DataFrame'>\n",
      "RangeIndex: 44753 entries, 0 to 44752\n",
      "Data columns (total 18 columns):\n",
      " #   Column                 Non-Null Count  Dtype  \n",
      "---  ------                 --------------  -----  \n",
      " 0   id                     44753 non-null  int64  \n",
      " 1   title                  44753 non-null  object \n",
      " 2   tagline                20285 non-null  object \n",
      " 3   release_date           44712 non-null  object \n",
      " 4   genres                 42591 non-null  object \n",
      " 5   belongs_to_collection  4463 non-null   object \n",
      " 6   original_language      44743 non-null  object \n",
      " 7   budget_musd            8854 non-null   float64\n",
      " 8   revenue_musd           7385 non-null   float64\n",
      " 9   production_companies   33356 non-null  object \n",
      " 10  production_countries   38838 non-null  object \n",
      " 11  vote_count             44753 non-null  float64\n",
      " 12  vote_average           42097 non-null  float64\n",
      " 13  popularity             44753 non-null  float64\n",
      " 14  runtime                43223 non-null  float64\n",
      " 15  overview               43795 non-null  object \n",
      " 16  spoken_languages       41097 non-null  object \n",
      " 17  poster_path            44467 non-null  object \n",
      "dtypes: float64(6), int64(1), object(11)\n",
      "memory usage: 6.1+ MB\n"
     ]
    }
   ],
   "source": [
    "pd.read_csv('movies_clean.csv').info()"
   ]
  }
 ],
 "metadata": {
  "kernelspec": {
   "display_name": "Python 3 (ipykernel)",
   "language": "python",
   "name": "python3"
  },
  "language_info": {
   "codemirror_mode": {
    "name": "ipython",
    "version": 3
   },
   "file_extension": ".py",
   "mimetype": "text/x-python",
   "name": "python",
   "nbconvert_exporter": "python",
   "pygments_lexer": "ipython3",
   "version": "3.9.13"
  }
 },
 "nbformat": 4,
 "nbformat_minor": 2
}
